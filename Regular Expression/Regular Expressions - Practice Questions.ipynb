{
 "cells": [
  {
   "cell_type": "markdown",
   "id": "fe441343",
   "metadata": {},
   "source": [
    "# Regular Expressions - Practice Questions"
   ]
  },
  {
   "cell_type": "code",
   "execution_count": 2,
   "id": "37215f37",
   "metadata": {},
   "outputs": [],
   "source": [
    "import regex as re"
   ]
  },
  {
   "cell_type": "markdown",
   "id": "b76a8b2a",
   "metadata": {},
   "source": [
    "Question 1- Write a RegEx pattern in python program to check that a string contains only a certain set of characters (in this case a-z, A-Z and 0-9)."
   ]
  },
  {
   "cell_type": "code",
   "execution_count": 58,
   "id": "847df676",
   "metadata": {},
   "outputs": [
    {
     "name": "stdout",
     "output_type": "stream",
     "text": [
      "['Python', 'is', 'a', 'programming', 'language']\n"
     ]
    }
   ],
   "source": [
    "string1 = \"Python is a programming language\"\n",
    "\n",
    "x= re.findall(r\"[a-zA-Z0-9]+\",string1)\n",
    "if x is not None:\n",
    "    print(x)"
   ]
  },
  {
   "cell_type": "markdown",
   "id": "e367ab9b",
   "metadata": {},
   "source": [
    "Question 2- Write a RegEx pattern that matches a string that has an a followed by zero or more b's"
   ]
  },
  {
   "cell_type": "code",
   "execution_count": 99,
   "id": "e5db1c40",
   "metadata": {},
   "outputs": [
    {
     "name": "stdout",
     "output_type": "stream",
     "text": [
      "['bay of bengal bank of america business bbrace Apple cost Rs.50']\n"
     ]
    }
   ],
   "source": [
    "string1 = \"bay of bengal bank of america business bbrace Apple cost Rs.50\";\n",
    "x=re.findall(\"\\w.*\",string1)\n",
    "print(x)"
   ]
  },
  {
   "cell_type": "markdown",
   "id": "e03580af",
   "metadata": {},
   "source": [
    "Question 3-  Write a RegEx pattern that matches a string that has an a followed by one or more b's"
   ]
  },
  {
   "cell_type": "code",
   "execution_count": 100,
   "id": "347782d6",
   "metadata": {},
   "outputs": [
    {
     "name": "stdout",
     "output_type": "stream",
     "text": [
      "['bay', 'bengal', 'bank', 'business', 'bbrace']\n"
     ]
    }
   ],
   "source": [
    "string1 = \"bay of bengal bank of america business bbrace Apple cost Rs.50\"\n",
    "\n",
    "x=re.findall(\"b[\\w]+\",string1)\n",
    "print(x)"
   ]
  },
  {
   "cell_type": "markdown",
   "id": "605251f2",
   "metadata": {},
   "source": [
    "Question 4- Write a RegEx pattern that matches a string that has an a followed by zero or one 'b'."
   ]
  },
  {
   "cell_type": "code",
   "execution_count": 116,
   "id": "be37fed0",
   "metadata": {},
   "outputs": [
    {
     "name": "stdout",
     "output_type": "stream",
     "text": [
      "['bay', 'bengal', 'bank', 'business', 'brace']\n"
     ]
    }
   ],
   "source": [
    "string2 = \"bay of bengal bank of america business brace Apple cost Rs.50\"\n",
    "\n",
    "x=re.findall(\"(b[?:\\w]+)\",string2)\n",
    "print(x)"
   ]
  },
  {
   "cell_type": "markdown",
   "id": "da85012d",
   "metadata": {},
   "source": [
    "Question 5- Write a RegEx pattern in python program that matches a string that has an a followed by three 'b'."
   ]
  },
  {
   "cell_type": "code",
   "execution_count": 117,
   "id": "624e4d9e",
   "metadata": {},
   "outputs": [
    {
     "name": "stdout",
     "output_type": "stream",
     "text": [
      "['bbbrace', 'bbbApple']\n"
     ]
    }
   ],
   "source": [
    "string2 = \"bay of bengal bank of america business bbbrace bbabc bbbApple cost Rs.50\"\n",
    "\n",
    "#x=re.findall(\"bbb[\\w*]+\",string2)\n",
    "x=re.findall(\"b{3}[\\w]+\",string2)\n",
    "print(x)"
   ]
  },
  {
   "cell_type": "markdown",
   "id": "f115cc52",
   "metadata": {},
   "source": [
    "Question 6- Write a RegEx pattern in python program that matches a string that has an a followed by two to three 'b'."
   ]
  },
  {
   "cell_type": "code",
   "execution_count": 118,
   "id": "9417742b",
   "metadata": {},
   "outputs": [
    {
     "name": "stdout",
     "output_type": "stream",
     "text": [
      "['bbusiness', 'bbbrace', 'bbabc', 'bbbApple']\n"
     ]
    }
   ],
   "source": [
    "string2 = \"bay of bengal bank of america bbusiness bbbrace bbabc bbbApple cost Rs.50\"\n",
    "\n",
    "#x=re.findall(\"bb[\\w*]+|bbb[\\w*]+\",string2)\n",
    "\n",
    "x=re.findall(\"b{2,3}[\\w]+\",string2)\n",
    "print(x)"
   ]
  },
  {
   "cell_type": "markdown",
   "id": "09ad8b2c",
   "metadata": {},
   "source": [
    "Question 7- Write a Python program that matches a string that has an 'a' followed by anything, ending in 'b'."
   ]
  },
  {
   "cell_type": "code",
   "execution_count": 119,
   "id": "c4ded358",
   "metadata": {},
   "outputs": [
    {
     "name": "stdout",
     "output_type": "stream",
     "text": [
      "['apricotb']\n"
     ]
    }
   ],
   "source": [
    "string2 = \"banana apricotb\"\n",
    "\n",
    "x=re.findall(\"a[\\w+]+b$\",string2)\n",
    "print(x)"
   ]
  },
  {
   "cell_type": "markdown",
   "id": "bbc560fb",
   "metadata": {},
   "source": [
    "Question 8- Write a RegEx pattern in python program that matches a word at the beginning of a string."
   ]
  },
  {
   "cell_type": "code",
   "execution_count": 120,
   "id": "f2d41be8",
   "metadata": {},
   "outputs": [
    {
     "name": "stdout",
     "output_type": "stream",
     "text": [
      "['Python']\n"
     ]
    }
   ],
   "source": [
    "string2 = \"Python is Programming Language\"\n",
    "\n",
    "x=re.findall(\"^\\w+\",string2)\n",
    "print(x)"
   ]
  },
  {
   "cell_type": "markdown",
   "id": "5aa16686",
   "metadata": {},
   "source": [
    "Question 9- Write a RegEx pattern in python program that matches a word at the end of a string."
   ]
  },
  {
   "cell_type": "code",
   "execution_count": 121,
   "id": "908b72a4",
   "metadata": {},
   "outputs": [
    {
     "name": "stdout",
     "output_type": "stream",
     "text": [
      "['Language']\n"
     ]
    }
   ],
   "source": [
    "string2 = \"Python is Programming Language\"\n",
    "\n",
    "x=re.findall(\"\\w+$\",string2)\n",
    "print(x)"
   ]
  },
  {
   "cell_type": "markdown",
   "id": "e43203be",
   "metadata": {},
   "source": [
    "Question 10- Write a RegEx pattern in python program to find all words that are 4 digits long in a string.\n",
    "Sample text- '01 0132 231875 1458 301 2725.'\n",
    "Expected output- ['0132', '1458', '2725']"
   ]
  },
  {
   "cell_type": "code",
   "execution_count": 97,
   "id": "c8134223",
   "metadata": {},
   "outputs": [
    {
     "name": "stdout",
     "output_type": "stream",
     "text": [
      "['0132', '2318', '1458', '2725']\n"
     ]
    }
   ],
   "source": [
    "string2 = \"01 0132 231875 1458 301 2725.\"\n",
    "\n",
    "x=re.findall(\"\\d{4}\",string2)\n",
    "print(x)"
   ]
  },
  {
   "cell_type": "code",
   "execution_count": null,
   "id": "174e11fa",
   "metadata": {},
   "outputs": [],
   "source": []
  }
 ],
 "metadata": {
  "kernelspec": {
   "display_name": "Python 3 (ipykernel)",
   "language": "python",
   "name": "python3"
  },
  "language_info": {
   "codemirror_mode": {
    "name": "ipython",
    "version": 3
   },
   "file_extension": ".py",
   "mimetype": "text/x-python",
   "name": "python",
   "nbconvert_exporter": "python",
   "pygments_lexer": "ipython3",
   "version": "3.11.5"
  }
 },
 "nbformat": 4,
 "nbformat_minor": 5
}

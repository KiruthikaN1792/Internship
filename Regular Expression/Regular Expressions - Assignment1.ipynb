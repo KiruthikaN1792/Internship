{
 "cells": [
  {
   "cell_type": "markdown",
   "id": "0244d22a",
   "metadata": {},
   "source": [
    "# Regular Expressions - Assignment1"
   ]
  },
  {
   "cell_type": "code",
   "execution_count": 51,
   "id": "f1c8291d",
   "metadata": {},
   "outputs": [],
   "source": [
    "import regex as re\n",
    "import pandas as pd"
   ]
  },
  {
   "cell_type": "markdown",
   "id": "591a0ea4",
   "metadata": {},
   "source": [
    "Question 1- Write a Python program to replace all occurrences of a space, comma, or dot with a colon."
   ]
  },
  {
   "cell_type": "code",
   "execution_count": 52,
   "id": "587d8644",
   "metadata": {},
   "outputs": [
    {
     "data": {
      "text/plain": [
       "'Python:Exercises::PHP:exercises:'"
      ]
     },
     "execution_count": 52,
     "metadata": {},
     "output_type": "execute_result"
    }
   ],
   "source": [
    "string1 = 'Python Exercises, PHP exercises.'\n",
    "\n",
    "x=re.sub(r\"[\\s,.]\",\":\",string1)\n",
    "x"
   ]
  },
  {
   "cell_type": "markdown",
   "id": "3b34b76e",
   "metadata": {},
   "source": [
    "Question 2-  Create a dataframe using the dictionary below and remove everything (commas (,), !, XXXX, ;, etc.) from the columns except words."
   ]
  },
  {
   "cell_type": "code",
   "execution_count": 53,
   "id": "6efc2665",
   "metadata": {},
   "outputs": [
    {
     "data": {
      "text/plain": [
       "0      hello world\n",
       "1       XXXXX test\n",
       "2    four five six\n",
       "Name: SUMMARY, dtype: object"
      ]
     },
     "execution_count": 53,
     "metadata": {},
     "output_type": "execute_result"
    }
   ],
   "source": [
    "dict1= {'SUMMARY' : ['hello, world!', 'XXXXX test', '123four, five:; six...']}\n",
    "\n",
    "df=pd.DataFrame(dict1)\n",
    "df[\"SUMMARY\"].str.replace(\"[^a-zA-Z\\s]\",\"\",regex=True)"
   ]
  },
  {
   "cell_type": "markdown",
   "id": "a50be05e",
   "metadata": {},
   "source": [
    "Question 3- Create a function in python to find all words that are at least 4 characters long in a string. The use of the re.compile() method is mandatory."
   ]
  },
  {
   "cell_type": "code",
   "execution_count": 54,
   "id": "a9895d7f",
   "metadata": {},
   "outputs": [],
   "source": [
    "def find_four_char_long():\n",
    "    string1=\"Apple cost Rs.20, Banana cost Rs.40\"\n",
    "    \n",
    "    pattern = re.compile(r\"\\w{4,}\")\n",
    "    x=pattern.findall(string1)\n",
    "    print(x)"
   ]
  },
  {
   "cell_type": "code",
   "execution_count": 55,
   "id": "ed0a1d71",
   "metadata": {},
   "outputs": [
    {
     "name": "stdout",
     "output_type": "stream",
     "text": [
      "['Apple', 'cost', 'Banana', 'cost']\n"
     ]
    }
   ],
   "source": [
    "find_four_char_long()"
   ]
  },
  {
   "cell_type": "markdown",
   "id": "18330d2d",
   "metadata": {},
   "source": [
    "Question 4- Create a function in python to find all three, four, and five character words in a string. The use of the re.compile() method is mandatory."
   ]
  },
  {
   "cell_type": "code",
   "execution_count": 56,
   "id": "c954cd03",
   "metadata": {},
   "outputs": [],
   "source": [
    "def three_four_five_char():\n",
    "    string1=\"Python is a programming language and easy to use\"\n",
    "    \n",
    "    pattern = re.compile(r\"\\b\\w{3,5}\\b\")\n",
    "    x=pattern.findall(string1)\n",
    "    print(x)"
   ]
  },
  {
   "cell_type": "code",
   "execution_count": 57,
   "id": "7125d656",
   "metadata": {},
   "outputs": [
    {
     "name": "stdout",
     "output_type": "stream",
     "text": [
      "['and', 'easy', 'use']\n"
     ]
    }
   ],
   "source": [
    "three_four_five_char()"
   ]
  },
  {
   "cell_type": "markdown",
   "id": "da4f9974",
   "metadata": {},
   "source": [
    "Question 5- Create a function in Python to remove the parenthesis in a list of strings. The use of the re.compile() method is mandatory."
   ]
  },
  {
   "cell_type": "code",
   "execution_count": 58,
   "id": "f290b91d",
   "metadata": {},
   "outputs": [],
   "source": [
    "def remove_paranthesis():\n",
    "    string2=[\"example (.com)\", \"hr@fliprobo (.com)\", \"github (.com)\", \"Hello (Data Science World)\", \"Data (Scientist)\"]\n",
    "    \n",
    "    pattern = re.compile(r\"\\s\\(|\\)\")\n",
    "    for i in string2:\n",
    "        y=pattern.sub(\"\",i)\n",
    "        print(y)"
   ]
  },
  {
   "cell_type": "code",
   "execution_count": 59,
   "id": "fe3d6980",
   "metadata": {},
   "outputs": [
    {
     "name": "stdout",
     "output_type": "stream",
     "text": [
      "example.com\n",
      "hr@fliprobo.com\n",
      "github.com\n",
      "HelloData Science World\n",
      "DataScientist\n"
     ]
    }
   ],
   "source": [
    "remove_paranthesis()"
   ]
  },
  {
   "cell_type": "markdown",
   "id": "0f889c2a",
   "metadata": {},
   "source": [
    "Question 6- Write a python program to remove the parenthesis area from the text stored in the text file using Regular Expression.\n",
    "\n",
    "Note- Store given sample text in the text file and then to remove the parenthesis area from the text."
   ]
  },
  {
   "cell_type": "code",
   "execution_count": 60,
   "id": "b168cb10",
   "metadata": {},
   "outputs": [],
   "source": [
    "def remove_paranthesis_area():\n",
    "    with open (r\"C:\\Users\\DELL\\OneDrive\\Documents\\PG Program in Data Science Machine Learning and Neural Network\\Internship\\Datasets\\sample1.txt\") as file1:\n",
    "        pattern =re.compile(r\"\\(.*?\\)\")\n",
    "        for i in file1:\n",
    "            y=pattern.sub(\"\",i)\n",
    "        print(y)"
   ]
  },
  {
   "cell_type": "code",
   "execution_count": 61,
   "id": "871eba54",
   "metadata": {},
   "outputs": [
    {
     "name": "stdout",
     "output_type": "stream",
     "text": [
      "[\"example \", \"hr@fliprobo \", \"github \", \"Hello \", \"Data \"]\n"
     ]
    }
   ],
   "source": [
    "remove_paranthesis_area()"
   ]
  },
  {
   "cell_type": "markdown",
   "id": "3a9a4b28",
   "metadata": {},
   "source": [
    "Question 7- Write a regular expression in Python to split a string into uppercase letters."
   ]
  },
  {
   "cell_type": "code",
   "execution_count": 62,
   "id": "cf44129d",
   "metadata": {},
   "outputs": [
    {
     "data": {
      "text/plain": [
       "['Importance', 'Of', 'Regular', 'Expressions', 'In', 'Python']"
      ]
     },
     "execution_count": 62,
     "metadata": {},
     "output_type": "execute_result"
    }
   ],
   "source": [
    "string1=\"ImportanceOfRegularExpressionsInPython\"\n",
    "\n",
    "pattern = r\"([A-Z][^A-Z]*)\"\n",
    "\n",
    "x=re.findall(pattern,string1)\n",
    "x"
   ]
  },
  {
   "cell_type": "markdown",
   "id": "1cd410ab",
   "metadata": {},
   "source": [
    "Question 8- Create a function in python to insert spaces between words starting with numbers."
   ]
  },
  {
   "cell_type": "code",
   "execution_count": 74,
   "id": "c6e8ad0f",
   "metadata": {},
   "outputs": [],
   "source": [
    "def space_between_words_numbers():\n",
    "    string1=\"RegularExpression1IsAn2ImportantTopic3InPython\"\n",
    "    x=re.sub(\"(\\d+)\",r\" \\1\",string1)\n",
    "    print(x)"
   ]
  },
  {
   "cell_type": "code",
   "execution_count": 75,
   "id": "c9dd2654",
   "metadata": {},
   "outputs": [
    {
     "name": "stdout",
     "output_type": "stream",
     "text": [
      "RegularExpression 1IsAn 2ImportantTopic 3InPython\n"
     ]
    }
   ],
   "source": [
    "space_between_words_numbers()"
   ]
  },
  {
   "cell_type": "markdown",
   "id": "a5f0ea8a",
   "metadata": {},
   "source": [
    "Question 9- Create a function in python to insert spaces between words starting with capital letters or with numbers."
   ]
  },
  {
   "cell_type": "code",
   "execution_count": 77,
   "id": "248f074e",
   "metadata": {},
   "outputs": [],
   "source": [
    "def space_between_cap_numbers():\n",
    "    string1=\"RegularExpression1IsAn2ImportantTopic3InPython\"\n",
    "    x=re.sub(\"(\\d+)\",r\" \\1 \",string1)\n",
    "    print(x)"
   ]
  },
  {
   "cell_type": "code",
   "execution_count": 78,
   "id": "b12974f3",
   "metadata": {},
   "outputs": [
    {
     "name": "stdout",
     "output_type": "stream",
     "text": [
      "RegularExpression 1 IsAn 2 ImportantTopic 3 InPython\n"
     ]
    }
   ],
   "source": [
    "space_between_cap_numbers()"
   ]
  },
  {
   "cell_type": "markdown",
   "id": "da2bcb8b",
   "metadata": {},
   "source": [
    "Question 10- Use the github link below to read the data and create a dataframe. After creating the dataframe extract the first 6 letters of each country and store in the dataframe under a new column called first_five_letters.\n",
    "\n",
    "Github Link-  https://raw.githubusercontent.com/dsrscientist/DSData/master/happiness_score_dataset.csv"
   ]
  },
  {
   "cell_type": "code",
   "execution_count": 79,
   "id": "b9845c24",
   "metadata": {},
   "outputs": [
    {
     "data": {
      "text/html": [
       "<div>\n",
       "<style scoped>\n",
       "    .dataframe tbody tr th:only-of-type {\n",
       "        vertical-align: middle;\n",
       "    }\n",
       "\n",
       "    .dataframe tbody tr th {\n",
       "        vertical-align: top;\n",
       "    }\n",
       "\n",
       "    .dataframe thead th {\n",
       "        text-align: right;\n",
       "    }\n",
       "</style>\n",
       "<table border=\"1\" class=\"dataframe\">\n",
       "  <thead>\n",
       "    <tr style=\"text-align: right;\">\n",
       "      <th></th>\n",
       "      <th>Country</th>\n",
       "      <th>Region</th>\n",
       "      <th>Happiness Rank</th>\n",
       "      <th>Happiness Score</th>\n",
       "      <th>Standard Error</th>\n",
       "      <th>Economy (GDP per Capita)</th>\n",
       "      <th>Family</th>\n",
       "      <th>Health (Life Expectancy)</th>\n",
       "      <th>Freedom</th>\n",
       "      <th>Trust (Government Corruption)</th>\n",
       "      <th>Generosity</th>\n",
       "      <th>Dystopia Residual</th>\n",
       "    </tr>\n",
       "  </thead>\n",
       "  <tbody>\n",
       "    <tr>\n",
       "      <th>0</th>\n",
       "      <td>Switzerland</td>\n",
       "      <td>Western Europe</td>\n",
       "      <td>1</td>\n",
       "      <td>7.587</td>\n",
       "      <td>0.03411</td>\n",
       "      <td>1.39651</td>\n",
       "      <td>1.34951</td>\n",
       "      <td>0.94143</td>\n",
       "      <td>0.66557</td>\n",
       "      <td>0.41978</td>\n",
       "      <td>0.29678</td>\n",
       "      <td>2.51738</td>\n",
       "    </tr>\n",
       "    <tr>\n",
       "      <th>1</th>\n",
       "      <td>Iceland</td>\n",
       "      <td>Western Europe</td>\n",
       "      <td>2</td>\n",
       "      <td>7.561</td>\n",
       "      <td>0.04884</td>\n",
       "      <td>1.30232</td>\n",
       "      <td>1.40223</td>\n",
       "      <td>0.94784</td>\n",
       "      <td>0.62877</td>\n",
       "      <td>0.14145</td>\n",
       "      <td>0.43630</td>\n",
       "      <td>2.70201</td>\n",
       "    </tr>\n",
       "    <tr>\n",
       "      <th>2</th>\n",
       "      <td>Denmark</td>\n",
       "      <td>Western Europe</td>\n",
       "      <td>3</td>\n",
       "      <td>7.527</td>\n",
       "      <td>0.03328</td>\n",
       "      <td>1.32548</td>\n",
       "      <td>1.36058</td>\n",
       "      <td>0.87464</td>\n",
       "      <td>0.64938</td>\n",
       "      <td>0.48357</td>\n",
       "      <td>0.34139</td>\n",
       "      <td>2.49204</td>\n",
       "    </tr>\n",
       "    <tr>\n",
       "      <th>3</th>\n",
       "      <td>Norway</td>\n",
       "      <td>Western Europe</td>\n",
       "      <td>4</td>\n",
       "      <td>7.522</td>\n",
       "      <td>0.03880</td>\n",
       "      <td>1.45900</td>\n",
       "      <td>1.33095</td>\n",
       "      <td>0.88521</td>\n",
       "      <td>0.66973</td>\n",
       "      <td>0.36503</td>\n",
       "      <td>0.34699</td>\n",
       "      <td>2.46531</td>\n",
       "    </tr>\n",
       "    <tr>\n",
       "      <th>4</th>\n",
       "      <td>Canada</td>\n",
       "      <td>North America</td>\n",
       "      <td>5</td>\n",
       "      <td>7.427</td>\n",
       "      <td>0.03553</td>\n",
       "      <td>1.32629</td>\n",
       "      <td>1.32261</td>\n",
       "      <td>0.90563</td>\n",
       "      <td>0.63297</td>\n",
       "      <td>0.32957</td>\n",
       "      <td>0.45811</td>\n",
       "      <td>2.45176</td>\n",
       "    </tr>\n",
       "  </tbody>\n",
       "</table>\n",
       "</div>"
      ],
      "text/plain": [
       "       Country          Region  Happiness Rank  Happiness Score  \\\n",
       "0  Switzerland  Western Europe               1            7.587   \n",
       "1      Iceland  Western Europe               2            7.561   \n",
       "2      Denmark  Western Europe               3            7.527   \n",
       "3       Norway  Western Europe               4            7.522   \n",
       "4       Canada   North America               5            7.427   \n",
       "\n",
       "   Standard Error  Economy (GDP per Capita)   Family  \\\n",
       "0         0.03411                   1.39651  1.34951   \n",
       "1         0.04884                   1.30232  1.40223   \n",
       "2         0.03328                   1.32548  1.36058   \n",
       "3         0.03880                   1.45900  1.33095   \n",
       "4         0.03553                   1.32629  1.32261   \n",
       "\n",
       "   Health (Life Expectancy)  Freedom  Trust (Government Corruption)  \\\n",
       "0                   0.94143  0.66557                        0.41978   \n",
       "1                   0.94784  0.62877                        0.14145   \n",
       "2                   0.87464  0.64938                        0.48357   \n",
       "3                   0.88521  0.66973                        0.36503   \n",
       "4                   0.90563  0.63297                        0.32957   \n",
       "\n",
       "   Generosity  Dystopia Residual  \n",
       "0     0.29678            2.51738  \n",
       "1     0.43630            2.70201  \n",
       "2     0.34139            2.49204  \n",
       "3     0.34699            2.46531  \n",
       "4     0.45811            2.45176  "
      ]
     },
     "execution_count": 79,
     "metadata": {},
     "output_type": "execute_result"
    }
   ],
   "source": [
    "url=\"https://raw.githubusercontent.com/dsrscientist/DSData/master/happiness_score_dataset.csv\"\n",
    "df= pd.read_csv(url)\n",
    "df.head()"
   ]
  },
  {
   "cell_type": "code",
   "execution_count": 80,
   "id": "53ca5e24",
   "metadata": {},
   "outputs": [
    {
     "data": {
      "text/plain": [
       "(158, 12)"
      ]
     },
     "execution_count": 80,
     "metadata": {},
     "output_type": "execute_result"
    }
   ],
   "source": [
    "df.shape"
   ]
  },
  {
   "cell_type": "code",
   "execution_count": 81,
   "id": "10bb82c8",
   "metadata": {},
   "outputs": [
    {
     "name": "stdout",
     "output_type": "stream",
     "text": [
      "<class 'pandas.core.frame.DataFrame'>\n",
      "RangeIndex: 158 entries, 0 to 157\n",
      "Data columns (total 12 columns):\n",
      " #   Column                         Non-Null Count  Dtype  \n",
      "---  ------                         --------------  -----  \n",
      " 0   Country                        158 non-null    object \n",
      " 1   Region                         158 non-null    object \n",
      " 2   Happiness Rank                 158 non-null    int64  \n",
      " 3   Happiness Score                158 non-null    float64\n",
      " 4   Standard Error                 158 non-null    float64\n",
      " 5   Economy (GDP per Capita)       158 non-null    float64\n",
      " 6   Family                         158 non-null    float64\n",
      " 7   Health (Life Expectancy)       158 non-null    float64\n",
      " 8   Freedom                        158 non-null    float64\n",
      " 9   Trust (Government Corruption)  158 non-null    float64\n",
      " 10  Generosity                     158 non-null    float64\n",
      " 11  Dystopia Residual              158 non-null    float64\n",
      "dtypes: float64(9), int64(1), object(2)\n",
      "memory usage: 14.9+ KB\n"
     ]
    }
   ],
   "source": [
    "df.info()"
   ]
  },
  {
   "cell_type": "code",
   "execution_count": 82,
   "id": "fcb753b5",
   "metadata": {},
   "outputs": [
    {
     "data": {
      "text/plain": [
       "Country                          0\n",
       "Region                           0\n",
       "Happiness Rank                   0\n",
       "Happiness Score                  0\n",
       "Standard Error                   0\n",
       "Economy (GDP per Capita)         0\n",
       "Family                           0\n",
       "Health (Life Expectancy)         0\n",
       "Freedom                          0\n",
       "Trust (Government Corruption)    0\n",
       "Generosity                       0\n",
       "Dystopia Residual                0\n",
       "dtype: int64"
      ]
     },
     "execution_count": 82,
     "metadata": {},
     "output_type": "execute_result"
    }
   ],
   "source": [
    "df.isnull().sum()"
   ]
  },
  {
   "cell_type": "code",
   "execution_count": 83,
   "id": "fc87cd90",
   "metadata": {},
   "outputs": [],
   "source": [
    "df[\"first_five_letters\"]=df[\"Country\"].str.extract(r\"(\\w{6}+)\",expand=False)"
   ]
  },
  {
   "cell_type": "code",
   "execution_count": 84,
   "id": "82c74da6",
   "metadata": {},
   "outputs": [
    {
     "data": {
      "text/html": [
       "<div>\n",
       "<style scoped>\n",
       "    .dataframe tbody tr th:only-of-type {\n",
       "        vertical-align: middle;\n",
       "    }\n",
       "\n",
       "    .dataframe tbody tr th {\n",
       "        vertical-align: top;\n",
       "    }\n",
       "\n",
       "    .dataframe thead th {\n",
       "        text-align: right;\n",
       "    }\n",
       "</style>\n",
       "<table border=\"1\" class=\"dataframe\">\n",
       "  <thead>\n",
       "    <tr style=\"text-align: right;\">\n",
       "      <th></th>\n",
       "      <th>Country</th>\n",
       "      <th>Region</th>\n",
       "      <th>Happiness Rank</th>\n",
       "      <th>Happiness Score</th>\n",
       "      <th>Standard Error</th>\n",
       "      <th>Economy (GDP per Capita)</th>\n",
       "      <th>Family</th>\n",
       "      <th>Health (Life Expectancy)</th>\n",
       "      <th>Freedom</th>\n",
       "      <th>Trust (Government Corruption)</th>\n",
       "      <th>Generosity</th>\n",
       "      <th>Dystopia Residual</th>\n",
       "      <th>first_five_letters</th>\n",
       "    </tr>\n",
       "  </thead>\n",
       "  <tbody>\n",
       "    <tr>\n",
       "      <th>0</th>\n",
       "      <td>Switzerland</td>\n",
       "      <td>Western Europe</td>\n",
       "      <td>1</td>\n",
       "      <td>7.587</td>\n",
       "      <td>0.03411</td>\n",
       "      <td>1.39651</td>\n",
       "      <td>1.34951</td>\n",
       "      <td>0.94143</td>\n",
       "      <td>0.66557</td>\n",
       "      <td>0.41978</td>\n",
       "      <td>0.29678</td>\n",
       "      <td>2.51738</td>\n",
       "      <td>Switze</td>\n",
       "    </tr>\n",
       "    <tr>\n",
       "      <th>1</th>\n",
       "      <td>Iceland</td>\n",
       "      <td>Western Europe</td>\n",
       "      <td>2</td>\n",
       "      <td>7.561</td>\n",
       "      <td>0.04884</td>\n",
       "      <td>1.30232</td>\n",
       "      <td>1.40223</td>\n",
       "      <td>0.94784</td>\n",
       "      <td>0.62877</td>\n",
       "      <td>0.14145</td>\n",
       "      <td>0.43630</td>\n",
       "      <td>2.70201</td>\n",
       "      <td>Icelan</td>\n",
       "    </tr>\n",
       "    <tr>\n",
       "      <th>2</th>\n",
       "      <td>Denmark</td>\n",
       "      <td>Western Europe</td>\n",
       "      <td>3</td>\n",
       "      <td>7.527</td>\n",
       "      <td>0.03328</td>\n",
       "      <td>1.32548</td>\n",
       "      <td>1.36058</td>\n",
       "      <td>0.87464</td>\n",
       "      <td>0.64938</td>\n",
       "      <td>0.48357</td>\n",
       "      <td>0.34139</td>\n",
       "      <td>2.49204</td>\n",
       "      <td>Denmar</td>\n",
       "    </tr>\n",
       "    <tr>\n",
       "      <th>3</th>\n",
       "      <td>Norway</td>\n",
       "      <td>Western Europe</td>\n",
       "      <td>4</td>\n",
       "      <td>7.522</td>\n",
       "      <td>0.03880</td>\n",
       "      <td>1.45900</td>\n",
       "      <td>1.33095</td>\n",
       "      <td>0.88521</td>\n",
       "      <td>0.66973</td>\n",
       "      <td>0.36503</td>\n",
       "      <td>0.34699</td>\n",
       "      <td>2.46531</td>\n",
       "      <td>Norway</td>\n",
       "    </tr>\n",
       "    <tr>\n",
       "      <th>4</th>\n",
       "      <td>Canada</td>\n",
       "      <td>North America</td>\n",
       "      <td>5</td>\n",
       "      <td>7.427</td>\n",
       "      <td>0.03553</td>\n",
       "      <td>1.32629</td>\n",
       "      <td>1.32261</td>\n",
       "      <td>0.90563</td>\n",
       "      <td>0.63297</td>\n",
       "      <td>0.32957</td>\n",
       "      <td>0.45811</td>\n",
       "      <td>2.45176</td>\n",
       "      <td>Canada</td>\n",
       "    </tr>\n",
       "  </tbody>\n",
       "</table>\n",
       "</div>"
      ],
      "text/plain": [
       "       Country          Region  Happiness Rank  Happiness Score  \\\n",
       "0  Switzerland  Western Europe               1            7.587   \n",
       "1      Iceland  Western Europe               2            7.561   \n",
       "2      Denmark  Western Europe               3            7.527   \n",
       "3       Norway  Western Europe               4            7.522   \n",
       "4       Canada   North America               5            7.427   \n",
       "\n",
       "   Standard Error  Economy (GDP per Capita)   Family  \\\n",
       "0         0.03411                   1.39651  1.34951   \n",
       "1         0.04884                   1.30232  1.40223   \n",
       "2         0.03328                   1.32548  1.36058   \n",
       "3         0.03880                   1.45900  1.33095   \n",
       "4         0.03553                   1.32629  1.32261   \n",
       "\n",
       "   Health (Life Expectancy)  Freedom  Trust (Government Corruption)  \\\n",
       "0                   0.94143  0.66557                        0.41978   \n",
       "1                   0.94784  0.62877                        0.14145   \n",
       "2                   0.87464  0.64938                        0.48357   \n",
       "3                   0.88521  0.66973                        0.36503   \n",
       "4                   0.90563  0.63297                        0.32957   \n",
       "\n",
       "   Generosity  Dystopia Residual first_five_letters  \n",
       "0     0.29678            2.51738             Switze  \n",
       "1     0.43630            2.70201             Icelan  \n",
       "2     0.34139            2.49204             Denmar  \n",
       "3     0.34699            2.46531             Norway  \n",
       "4     0.45811            2.45176             Canada  "
      ]
     },
     "execution_count": 84,
     "metadata": {},
     "output_type": "execute_result"
    }
   ],
   "source": [
    "df.head()"
   ]
  },
  {
   "cell_type": "markdown",
   "id": "36b651d9",
   "metadata": {},
   "source": [
    "Question 11- Write a Python program to match a string that contains only upper and lowercase letters, numbers, and underscores."
   ]
  },
  {
   "cell_type": "code",
   "execution_count": 85,
   "id": "a752e167",
   "metadata": {},
   "outputs": [
    {
     "name": "stdout",
     "output_type": "stream",
     "text": [
      "<regex.Match object; span=(0, 7), match='Apple30'>\n",
      "None\n",
      "<regex.Match object; span=(0, 2), match='70'>\n",
      "<regex.Match object; span=(0, 3), match='ABC'>\n",
      "<regex.Match object; span=(0, 9), match='Bana_na40'>\n"
     ]
    }
   ],
   "source": [
    "string1=[\"Apple30\",\"Mango$cost\",\"70\",\"ABC\",\"Bana_na40\"]\n",
    "\n",
    "for i in string1:\n",
    "    x=re.match(r\"^[a-zA-Z0-9_]*$\",i)\n",
    "    print(x)"
   ]
  },
  {
   "cell_type": "markdown",
   "id": "a6368287",
   "metadata": {},
   "source": [
    "Question 12- Write a Python program where a string will start with a specific number."
   ]
  },
  {
   "cell_type": "code",
   "execution_count": 87,
   "id": "6152e5dd",
   "metadata": {},
   "outputs": [
    {
     "name": "stdout",
     "output_type": "stream",
     "text": [
      "<regex.Match object; span=(0, 2), match='30'>\n",
      "None\n",
      "<regex.Match object; span=(0, 2), match='50'>\n",
      "None\n"
     ]
    }
   ],
   "source": [
    "string2=[\"30Apples\",\"Banana40\",\"50Mango\",\"Grape40s\"]\n",
    "\n",
    "for i in string2:\n",
    "    x=re.match(r\"\\d+\",i)\n",
    "    print(x)"
   ]
  },
  {
   "cell_type": "markdown",
   "id": "bd5da8ba",
   "metadata": {},
   "source": [
    "Question 13- Write a Python program to remove leading zeros from an IP address"
   ]
  },
  {
   "cell_type": "code",
   "execution_count": 88,
   "id": "f694a596",
   "metadata": {},
   "outputs": [
    {
     "data": {
      "text/plain": [
       "'192.168.2.5'"
      ]
     },
     "execution_count": 88,
     "metadata": {},
     "output_type": "execute_result"
    }
   ],
   "source": [
    "string3 = \"192.168.2.50\"\n",
    "\n",
    "x=re.sub(r\"0+$\",\"\",string3)\n",
    "x"
   ]
  },
  {
   "cell_type": "markdown",
   "id": "7283be08",
   "metadata": {},
   "source": [
    "Question 14- Write a regular expression in python to match a date string in the form of Month name followed by day number and year stored in a text file.\n",
    "\n",
    "Note- Store given sample text in the text file and then extract the date string asked format."
   ]
  },
  {
   "cell_type": "code",
   "execution_count": 89,
   "id": "2091830a",
   "metadata": {},
   "outputs": [
    {
     "name": "stdout",
     "output_type": "stream",
     "text": [
      "['August 15th 1947']\n"
     ]
    }
   ],
   "source": [
    "with open(r\"C:\\Users\\DELL\\OneDrive\\Documents\\PG Program in Data Science Machine Learning and Neural Network\\Internship\\Datasets\\sample2.txt\") as file:\n",
    "    for i in file:\n",
    "        x=re.findall(r\"A[a-zA-Z]+\\s+\\d+[th|rd|nd|st]+\\s+\\d{4}\",i)\n",
    "        print(x)"
   ]
  },
  {
   "cell_type": "markdown",
   "id": "6ec9aaba",
   "metadata": {},
   "source": [
    "Question 15- Write a Python program to search some literals strings in a string. \n",
    "\n",
    "Searched words : 'fox', 'dog', 'horse'"
   ]
  },
  {
   "cell_type": "code",
   "execution_count": 90,
   "id": "71cffdd6",
   "metadata": {},
   "outputs": [
    {
     "data": {
      "text/plain": [
       "<regex.Match object; span=(16, 19), match='fox'>"
      ]
     },
     "execution_count": 90,
     "metadata": {},
     "output_type": "execute_result"
    }
   ],
   "source": [
    "string2 = \"The quick brown fox jumps over the lazy dog\"\n",
    "\n",
    "x=re.search(r\"fox|dog|horse\",string2)\n",
    "x"
   ]
  },
  {
   "cell_type": "markdown",
   "id": "f35584e4",
   "metadata": {},
   "source": [
    "Question 16- Write a Python program to search a literals string in a string and also find the location within the original string where the pattern occurs.\n",
    "\n",
    "Searched words : 'fox'"
   ]
  },
  {
   "cell_type": "code",
   "execution_count": 91,
   "id": "d140a467",
   "metadata": {},
   "outputs": [
    {
     "data": {
      "text/plain": [
       "<regex.Match object; span=(16, 19), match='fox'>"
      ]
     },
     "execution_count": 91,
     "metadata": {},
     "output_type": "execute_result"
    }
   ],
   "source": [
    "x=re.search(r\"fox\",string2)\n",
    "x"
   ]
  },
  {
   "cell_type": "markdown",
   "id": "f7864069",
   "metadata": {},
   "source": [
    "Question 17- Write a Python program to find the substrings within a string.\n",
    "\n",
    "Pattern : 'exercises'."
   ]
  },
  {
   "cell_type": "code",
   "execution_count": 92,
   "id": "ae4e6864",
   "metadata": {},
   "outputs": [
    {
     "data": {
      "text/plain": [
       "['exercises', 'exercises', 'exercises']"
      ]
     },
     "execution_count": 92,
     "metadata": {},
     "output_type": "execute_result"
    }
   ],
   "source": [
    "string3=\"Python exercises, PHP exercises, C# exercises\"\n",
    "\n",
    "x=re.findall(r\"\\bexercises\\b\",string3)\n",
    "x"
   ]
  },
  {
   "cell_type": "markdown",
   "id": "343e727c",
   "metadata": {},
   "source": [
    "Question 18- Write a Python program to find the occurrence and position of the substrings within a string."
   ]
  },
  {
   "cell_type": "code",
   "execution_count": 93,
   "id": "1639320c",
   "metadata": {},
   "outputs": [
    {
     "name": "stdout",
     "output_type": "stream",
     "text": [
      "<regex.Match object; span=(7, 16), match='exercises'>\n",
      "<regex.Match object; span=(22, 31), match='exercises'>\n",
      "<regex.Match object; span=(36, 45), match='exercises'>\n"
     ]
    }
   ],
   "source": [
    "string3=\"Python exercises, PHP exercises, C# exercises\"\n",
    "\n",
    "x=re.finditer(r\"exercises\",string3)\n",
    "for i in x:\n",
    "    print(i)"
   ]
  },
  {
   "cell_type": "markdown",
   "id": "a4f83d4b",
   "metadata": {},
   "source": [
    "Question 19- Write a Python program to convert a date of yyyy-mm-dd format to dd-mm-yyyy format."
   ]
  },
  {
   "cell_type": "code",
   "execution_count": 94,
   "id": "01343e28",
   "metadata": {},
   "outputs": [
    {
     "name": "stdout",
     "output_type": "stream",
     "text": [
      "12-09-1992\n"
     ]
    }
   ],
   "source": [
    "string4 = \"1992-09-12\"\n",
    "\n",
    "yyyy,mm,dd=string4.split(\"-\")\n",
    "data_converted = f\"{dd}-{mm}-{yyyy}\"\n",
    "print(data_converted)"
   ]
  },
  {
   "cell_type": "markdown",
   "id": "bcf360e2",
   "metadata": {},
   "source": [
    "Question 20- Create a function in python to find all decimal numbers with a precision of 1 or 2 in a string. The use of the re.compile() method is mandatory."
   ]
  },
  {
   "cell_type": "code",
   "execution_count": 103,
   "id": "2e8f1cc4",
   "metadata": {},
   "outputs": [],
   "source": [
    "def find_all_decimal():\n",
    "    string2 = \"01.12 0132.123 2.31875 145.8 3.01 27.25 0.25\"\n",
    "    pattern = re.compile(r\"\\b\\d+\\.\\d{1,2}\\b\")\n",
    "    x=pattern.findall(string2)\n",
    "    print(x)"
   ]
  },
  {
   "cell_type": "code",
   "execution_count": 104,
   "id": "6146c8ff",
   "metadata": {},
   "outputs": [
    {
     "name": "stdout",
     "output_type": "stream",
     "text": [
      "['01.12', '145.8', '3.01', '27.25', '0.25']\n"
     ]
    }
   ],
   "source": [
    "find_all_decimal()"
   ]
  },
  {
   "cell_type": "markdown",
   "id": "8d3cf661",
   "metadata": {},
   "source": [
    "Question 21- Write a Python program to separate and print the numbers and their position of a given string."
   ]
  },
  {
   "cell_type": "code",
   "execution_count": 105,
   "id": "a8ce856b",
   "metadata": {},
   "outputs": [
    {
     "name": "stdout",
     "output_type": "stream",
     "text": [
      "<regex.Match object; span=(0, 2), match='20'>\n",
      "Number 20\n",
      "Start Position 0\n",
      "End Position 2\n",
      "<regex.Match object; span=(8, 10), match='30'>\n",
      "Number 30\n",
      "Start Position 8\n",
      "End Position 10\n",
      "<regex.Match object; span=(25, 27), match='40'>\n",
      "Number 40\n",
      "Start Position 25\n",
      "End Position 27\n"
     ]
    }
   ],
   "source": [
    "string2 = \"20Apple 30 Banana Grapes 40\"\n",
    "\n",
    "x=re.finditer(r\"(\\d+)\",string2)\n",
    "\n",
    "for i in x:\n",
    "    print(i)\n",
    "    print(\"Number\",i.group())\n",
    "    print(\"Start Position\",i.start())\n",
    "    print(\"End Position\",i.end())"
   ]
  },
  {
   "cell_type": "markdown",
   "id": "88365c32",
   "metadata": {},
   "source": [
    "Question 22- Write a regular expression in python program to extract maximum/largest numeric value from a string."
   ]
  },
  {
   "cell_type": "code",
   "execution_count": 106,
   "id": "fd61d50e",
   "metadata": {},
   "outputs": [
    {
     "name": "stdout",
     "output_type": "stream",
     "text": [
      "950\n"
     ]
    }
   ],
   "source": [
    "string1 ='My marks in each semester are: 947, 896, 926, 524, 734, 950, 642'\n",
    "\n",
    "x=re.findall(r\"\\d+\",string1)\n",
    "print(max(x))"
   ]
  },
  {
   "cell_type": "markdown",
   "id": "98631b9a",
   "metadata": {},
   "source": [
    "Question 23- Create a function in python to insert spaces between words starting with capital letters."
   ]
  },
  {
   "cell_type": "code",
   "execution_count": 107,
   "id": "b0c3acc6",
   "metadata": {},
   "outputs": [],
   "source": [
    "def space_between_start_cap():\n",
    "    string1 = \"RegularExpressionIsAnImportantTopicInPython\"\n",
    "    \n",
    "    x=re.sub(r\"([A-Z])\",r\" \\1\",string1)\n",
    "    print(x)"
   ]
  },
  {
   "cell_type": "code",
   "execution_count": 108,
   "id": "02fe3e20",
   "metadata": {},
   "outputs": [
    {
     "name": "stdout",
     "output_type": "stream",
     "text": [
      " Regular Expression Is An Important Topic In Python\n"
     ]
    }
   ],
   "source": [
    "space_between_start_cap()"
   ]
  },
  {
   "cell_type": "markdown",
   "id": "1156be70",
   "metadata": {},
   "source": [
    "Question 24- Python regex to find sequences of one upper case letter followed by lower case letters"
   ]
  },
  {
   "cell_type": "code",
   "execution_count": 109,
   "id": "a31cacf1",
   "metadata": {},
   "outputs": [
    {
     "data": {
      "text/plain": [
       "['Apples', 'Mangoes', 'Nana', 'Pes']"
      ]
     },
     "execution_count": 109,
     "metadata": {},
     "output_type": "execute_result"
    }
   ],
   "source": [
    "string3=\"Apples Mangoes baNana graPes\"\n",
    "\n",
    "x=re.findall(r\"[A-Z][a-z]+\",string3)\n",
    "x"
   ]
  },
  {
   "cell_type": "markdown",
   "id": "74243e51",
   "metadata": {},
   "source": [
    "Question 25- Write a Python program to remove continuous duplicate words from Sentence using Regular Expression."
   ]
  },
  {
   "cell_type": "code",
   "execution_count": 110,
   "id": "64c6b6cc",
   "metadata": {},
   "outputs": [
    {
     "data": {
      "text/plain": [
       "'Hello hello world'"
      ]
     },
     "execution_count": 110,
     "metadata": {},
     "output_type": "execute_result"
    }
   ],
   "source": [
    "string1 = \"Hello hello world world\"\n",
    "pattern = r\"\\b(\\w+)(?:\\W+\\1\\b)+\"\n",
    "\n",
    "x=re.sub(pattern,r'\\1',string1)\n",
    "x"
   ]
  },
  {
   "cell_type": "markdown",
   "id": "f34a2792",
   "metadata": {},
   "source": [
    "Question 26-  Write a python program using RegEx to accept string ending with alphanumeric character."
   ]
  },
  {
   "cell_type": "code",
   "execution_count": 111,
   "id": "3708d683",
   "metadata": {},
   "outputs": [
    {
     "name": "stdout",
     "output_type": "stream",
     "text": [
      "Python is Programming language675\n"
     ]
    }
   ],
   "source": [
    "string1 =[\"1234PYTHON is Programming language?\",\"Python is Programming language675\"]\n",
    "\n",
    "for i in string1:\n",
    "    if re.search(r\"[a-zA-Z0-9]$\",i):\n",
    "        print(i)"
   ]
  },
  {
   "cell_type": "markdown",
   "id": "a6e96b1b",
   "metadata": {},
   "source": [
    "Question 27-Write a python program using RegEx to extract the hashtags."
   ]
  },
  {
   "cell_type": "code",
   "execution_count": 112,
   "id": "0812d3fe",
   "metadata": {},
   "outputs": [
    {
     "data": {
      "text/plain": [
       "['#Doltiwal', '#xyzabc', '#Demonetization']"
      ]
     },
     "execution_count": 112,
     "metadata": {},
     "output_type": "execute_result"
    }
   ],
   "source": [
    "string2=\"\"\"RT @kapil_kausik: #Doltiwal I mean #xyzabc is \"hurt\" by #Demonetization as the same has rendered USELESS <ed><U+00A0><U+00BD><ed><U+00B1><U+0089> \"acquired funds\" No wo\"\"\"\n",
    "\n",
    "x=re.findall(r\"#\\w+\",string2)\n",
    "x"
   ]
  },
  {
   "cell_type": "markdown",
   "id": "0443049d",
   "metadata": {},
   "source": [
    "Question 28- Write a python program using RegEx to remove <U+..> like symbols\n",
    "Check the below sample text, there are strange symbols something of the sort <U+..> all over the place. You need to come up with a general Regex expression that will cover all such symbols."
   ]
  },
  {
   "cell_type": "code",
   "execution_count": 113,
   "id": "39393554",
   "metadata": {},
   "outputs": [
    {
     "name": "stdout",
     "output_type": "stream",
     "text": [
      "@Jags123456 Bharat band on 28??<ed><ed>Those who  are protesting #demonetization  are all different party leaders\n"
     ]
    }
   ],
   "source": [
    "string4=\"@Jags123456 Bharat band on 28??<ed><U+00A0><U+00BD><ed><U+00B8><U+0082>Those who  are protesting #demonetization  are all different party leaders\"\n",
    "\n",
    "a=re.sub(r\"<U\\+[a-zA-Z0-9]+>\",\"\",string4)\n",
    "print(a)"
   ]
  },
  {
   "cell_type": "markdown",
   "id": "e1b5b04c",
   "metadata": {},
   "source": [
    "Question 29- Write a python program to extract dates from the text stored in the text file.\n",
    "\n",
    "Note- Store this sample text in the file and then extract dates."
   ]
  },
  {
   "cell_type": "code",
   "execution_count": 114,
   "id": "07bd23da",
   "metadata": {},
   "outputs": [],
   "source": [
    "def extract_dates():\n",
    "    with open(r\"C:\\Users\\DELL\\OneDrive\\Documents\\PG Program in Data Science Machine Learning and Neural Network\\Internship\\Datasets\\sample3.txt\") as file3:\n",
    "        for i in file3:\n",
    "            x=re.findall(r\"[\\d+-]+\",i)\n",
    "            print(x)"
   ]
  },
  {
   "cell_type": "code",
   "execution_count": 115,
   "id": "bb4a8241",
   "metadata": {},
   "outputs": [
    {
     "name": "stdout",
     "output_type": "stream",
     "text": [
      "['12-09-1992', '15-12-1999']\n"
     ]
    }
   ],
   "source": [
    "extract_dates()"
   ]
  },
  {
   "cell_type": "markdown",
   "id": "9424349b",
   "metadata": {},
   "source": [
    "Question 30- Create a function in python to remove all words from a string of length between 2 and 4.\n",
    "The use of the re.compile() method is mandatory."
   ]
  },
  {
   "cell_type": "code",
   "execution_count": 116,
   "id": "08647cb2",
   "metadata": {},
   "outputs": [],
   "source": [
    "def remove_two_three_char():\n",
    "    string4=\"The following example creates an ArrayList with a capacity of 50 elements. 4 elements are then added to the ArrayList and the ArrayList is trimmed accordingly.\"\n",
    "    pattern = re.compile(r\"\\b\\w{2,4}\\b\")\n",
    "    b=pattern.sub(\"\",string4)\n",
    "    print(b) "
   ]
  },
  {
   "cell_type": "code",
   "execution_count": 117,
   "id": "a2baf5fe",
   "metadata": {},
   "outputs": [
    {
     "name": "stdout",
     "output_type": "stream",
     "text": [
      " following example creates  ArrayList  a capacity   elements. 4 elements   added   ArrayList   ArrayList  trimmed accordingly.\n"
     ]
    }
   ],
   "source": [
    "remove_two_three_char()"
   ]
  },
  {
   "cell_type": "code",
   "execution_count": null,
   "id": "503aba6a",
   "metadata": {},
   "outputs": [],
   "source": []
  }
 ],
 "metadata": {
  "kernelspec": {
   "display_name": "Python 3 (ipykernel)",
   "language": "python",
   "name": "python3"
  },
  "language_info": {
   "codemirror_mode": {
    "name": "ipython",
    "version": 3
   },
   "file_extension": ".py",
   "mimetype": "text/x-python",
   "name": "python",
   "nbconvert_exporter": "python",
   "pygments_lexer": "ipython3",
   "version": "3.11.5"
  }
 },
 "nbformat": 4,
 "nbformat_minor": 5
}

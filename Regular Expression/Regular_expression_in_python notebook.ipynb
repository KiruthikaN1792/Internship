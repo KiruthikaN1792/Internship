{
 "cells": [
  {
   "cell_type": "markdown",
   "id": "fe38177a",
   "metadata": {},
   "source": [
    "# Regular Expressions in Python"
   ]
  },
  {
   "cell_type": "markdown",
   "id": "faf92f8e",
   "metadata": {},
   "source": [
    "Regular Expression is often abbreviated as RegEx or regex are a powerful tool for pattern matching and text manipulation. They provide a conscise and flexible ways to search, extract and manipulate strings of text based on specific pattern.\n",
    "\n",
    "Regular expressions are complex and tricky to work with complex patterns. Pythons re module provides a set of functions and methods to work with regular expressions such as search(), match(), findall() and sub() which makes it easier to levearge their power within the code.\n",
    "\n",
    "Also, regular expressions are instrumental in extracting information from text such as log files, spreadsheets and textual documents.\n",
    "\n",
    "Regular expressions are used in various tasks such as data pre-processing, rule based information mining systems, pattern matching, text feature engineering, web scraping, data extraction, etc...\n",
    "\n",
    "Example: Belo are some of the cases where regular expression helps to save a lot of time\n",
    "\n",
    "1, Searching and replacing text in files.\n",
    "\n",
    "2, Validating text inputs such as password and email address\n",
    "\n",
    "3, Rename a hundred files at a time. For example, you can change the extension of all files using regex pattern\n",
    "\n",
    "\n",
    "The simplest example of using a regular expression is when we search for some word in a text file or on a web page. For example, if we look at the word data science, the string data science become a simple regular expression."
   ]
  },
  {
   "cell_type": "code",
   "execution_count": 2,
   "id": "24e7314d",
   "metadata": {},
   "outputs": [],
   "source": [
    "import re\n",
    "import regex as re"
   ]
  },
  {
   "cell_type": "code",
   "execution_count": 2,
   "id": "6f0702a6",
   "metadata": {},
   "outputs": [
    {
     "name": "stdout",
     "output_type": "stream",
     "text": [
      "Help on package regex:\n",
      "\n",
      "NAME\n",
      "    regex - Support for regular expressions (RE).\n",
      "\n",
      "DESCRIPTION\n",
      "    This module provides regular expression matching operations similar to those\n",
      "    found in Perl. It supports both 8-bit and Unicode strings; both the pattern and\n",
      "    the strings being processed can contain null bytes and characters outside the\n",
      "    US ASCII range.\n",
      "    \n",
      "    Regular expressions can contain both special and ordinary characters. Most\n",
      "    ordinary characters, like \"A\", \"a\", or \"0\", are the simplest regular\n",
      "    expressions; they simply match themselves. You can concatenate ordinary\n",
      "    characters, so last matches the string 'last'.\n",
      "    \n",
      "    There are a few differences between the old (legacy) behaviour and the new\n",
      "    (enhanced) behaviour, which are indicated by VERSION0 or VERSION1.\n",
      "    \n",
      "    The special characters are:\n",
      "        \".\"                 Matches any character except a newline.\n",
      "        \"^\"                 Matches the start of the string.\n",
      "        \"$\"                 Matches the end of the string or just before the\n",
      "                            newline at the end of the string.\n",
      "        \"*\"                 Matches 0 or more (greedy) repetitions of the preceding\n",
      "                            RE. Greedy means that it will match as many repetitions\n",
      "                            as possible.\n",
      "        \"+\"                 Matches 1 or more (greedy) repetitions of the preceding\n",
      "                            RE.\n",
      "        \"?\"                 Matches 0 or 1 (greedy) of the preceding RE.\n",
      "        *?,+?,??            Non-greedy versions of the previous three special\n",
      "                            characters.\n",
      "        *+,++,?+            Possessive versions of the previous three special\n",
      "                            characters.\n",
      "        {m,n}               Matches from m to n repetitions of the preceding RE.\n",
      "        {m,n}?              Non-greedy version of the above.\n",
      "        {m,n}+              Possessive version of the above.\n",
      "        {...}               Fuzzy matching constraints.\n",
      "        \"\\\\\"                Either escapes special characters or signals a special\n",
      "                            sequence.\n",
      "        [...]               Indicates a set of characters. A \"^\" as the first\n",
      "                            character indicates a complementing set.\n",
      "        \"|\"                 A|B, creates an RE that will match either A or B.\n",
      "        (...)               Matches the RE inside the parentheses. The contents are\n",
      "                            captured and can be retrieved or matched later in the\n",
      "                            string.\n",
      "        (?flags-flags)      VERSION1: Sets/clears the flags for the remainder of\n",
      "                            the group or pattern; VERSION0: Sets the flags for the\n",
      "                            entire pattern.\n",
      "        (?:...)             Non-capturing version of regular parentheses.\n",
      "        (?>...)             Atomic non-capturing version of regular parentheses.\n",
      "        (?flags-flags:...)  Non-capturing version of regular parentheses with local\n",
      "                            flags.\n",
      "        (?P<name>...)       The substring matched by the group is accessible by\n",
      "                            name.\n",
      "        (?<name>...)        The substring matched by the group is accessible by\n",
      "                            name.\n",
      "        (?P=name)           Matches the text matched earlier by the group named\n",
      "                            name.\n",
      "        (?#...)             A comment; ignored.\n",
      "        (?=...)             Matches if ... matches next, but doesn't consume the\n",
      "                            string.\n",
      "        (?!...)             Matches if ... doesn't match next.\n",
      "        (?<=...)            Matches if preceded by ....\n",
      "        (?<!...)            Matches if not preceded by ....\n",
      "        (?(id)yes|no)       Matches yes pattern if group id matched, the (optional)\n",
      "                            no pattern otherwise.\n",
      "        (?(DEFINE)...)      If there's no group called \"DEFINE\", then ... will be\n",
      "                            ignored, but any group definitions will be available.\n",
      "        (?|...|...)         (?|A|B), creates an RE that will match either A or B,\n",
      "                            but reuses capture group numbers across the\n",
      "                            alternatives.\n",
      "        (*FAIL)             Forces matching to fail, which means immediate\n",
      "                            backtracking.\n",
      "        (*F)                Abbreviation for (*FAIL).\n",
      "        (*PRUNE)            Discards the current backtracking information. Its\n",
      "                            effect doesn't extend outside an atomic group or a\n",
      "                            lookaround.\n",
      "        (*SKIP)             Similar to (*PRUNE), except that it also sets where in\n",
      "                            the text the next attempt at matching the entire\n",
      "                            pattern will start. Its effect doesn't extend outside\n",
      "                            an atomic group or a lookaround.\n",
      "    \n",
      "    The fuzzy matching constraints are: \"i\" to permit insertions, \"d\" to permit\n",
      "    deletions, \"s\" to permit substitutions, \"e\" to permit any of these. Limits are\n",
      "    optional with \"<=\" and \"<\". If any type of error is provided then any type not\n",
      "    provided is not permitted.\n",
      "    \n",
      "    A cost equation may be provided.\n",
      "    \n",
      "    Examples:\n",
      "        (?:fuzzy){i<=2}\n",
      "        (?:fuzzy){i<=1,s<=2,d<=1,1i+1s+1d<3}\n",
      "    \n",
      "    VERSION1: Set operators are supported, and a set can include nested sets. The\n",
      "    set operators, in order of increasing precedence, are:\n",
      "        ||  Set union (\"x||y\" means \"x or y\").\n",
      "        ~~  (double tilde) Symmetric set difference (\"x~~y\" means \"x or y, but not\n",
      "            both\").\n",
      "        &&  Set intersection (\"x&&y\" means \"x and y\").\n",
      "        --  (double dash) Set difference (\"x--y\" means \"x but not y\").\n",
      "    \n",
      "    Implicit union, ie, simple juxtaposition like in [ab], has the highest\n",
      "    precedence.\n",
      "    \n",
      "    VERSION0 and VERSION1:\n",
      "    The special sequences consist of \"\\\\\" and a character from the list below. If\n",
      "    the ordinary character is not on the list, then the resulting RE will match the\n",
      "    second character.\n",
      "        \\number         Matches the contents of the group of the same number if\n",
      "                        number is no more than 2 digits, otherwise the character\n",
      "                        with the 3-digit octal code.\n",
      "        \\a              Matches the bell character.\n",
      "        \\A              Matches only at the start of the string.\n",
      "        \\b              Matches the empty string, but only at the start or end of a\n",
      "                        word.\n",
      "        \\B              Matches the empty string, but not at the start or end of a\n",
      "                        word.\n",
      "        \\d              Matches any decimal digit; equivalent to the set [0-9] when\n",
      "                        matching a bytestring or a Unicode string with the ASCII\n",
      "                        flag, or the whole range of Unicode digits when matching a\n",
      "                        Unicode string.\n",
      "        \\D              Matches any non-digit character; equivalent to [^\\d].\n",
      "        \\f              Matches the formfeed character.\n",
      "        \\g<name>        Matches the text matched by the group named name.\n",
      "        \\G              Matches the empty string, but only at the position where\n",
      "                        the search started.\n",
      "        \\h              Matches horizontal whitespace.\n",
      "        \\K              Keeps only what follows for the entire match.\n",
      "        \\L<name>        Named list. The list is provided as a keyword argument.\n",
      "        \\m              Matches the empty string, but only at the start of a word.\n",
      "        \\M              Matches the empty string, but only at the end of a word.\n",
      "        \\n              Matches the newline character.\n",
      "        \\N{name}        Matches the named character.\n",
      "        \\p{name=value}  Matches the character if its property has the specified\n",
      "                        value.\n",
      "        \\P{name=value}  Matches the character if its property hasn't the specified\n",
      "                        value.\n",
      "        \\r              Matches the carriage-return character.\n",
      "        \\s              Matches any whitespace character; equivalent to\n",
      "                        [ \\t\\n\\r\\f\\v].\n",
      "        \\S              Matches any non-whitespace character; equivalent to [^\\s].\n",
      "        \\t              Matches the tab character.\n",
      "        \\uXXXX          Matches the Unicode codepoint with 4-digit hex code XXXX.\n",
      "        \\UXXXXXXXX      Matches the Unicode codepoint with 8-digit hex code\n",
      "                        XXXXXXXX.\n",
      "        \\v              Matches the vertical tab character.\n",
      "        \\w              Matches any alphanumeric character; equivalent to\n",
      "                        [a-zA-Z0-9_] when matching a bytestring or a Unicode string\n",
      "                        with the ASCII flag, or the whole range of Unicode\n",
      "                        alphanumeric characters (letters plus digits plus\n",
      "                        underscore) when matching a Unicode string. With LOCALE, it\n",
      "                        will match the set [0-9_] plus characters defined as\n",
      "                        letters for the current locale.\n",
      "        \\W              Matches the complement of \\w; equivalent to [^\\w].\n",
      "        \\xXX            Matches the character with 2-digit hex code XX.\n",
      "        \\X              Matches a grapheme.\n",
      "        \\Z              Matches only at the end of the string.\n",
      "        \\\\              Matches a literal backslash.\n",
      "    \n",
      "    This module exports the following functions:\n",
      "        match      Match a regular expression pattern at the beginning of a string.\n",
      "        fullmatch  Match a regular expression pattern against all of a string.\n",
      "        search     Search a string for the presence of a pattern.\n",
      "        sub        Substitute occurrences of a pattern found in a string using a\n",
      "                   template string.\n",
      "        subf       Substitute occurrences of a pattern found in a string using a\n",
      "                   format string.\n",
      "        subn       Same as sub, but also return the number of substitutions made.\n",
      "        subfn      Same as subf, but also return the number of substitutions made.\n",
      "        split      Split a string by the occurrences of a pattern. VERSION1: will\n",
      "                   split at zero-width match; VERSION0: won't split at zero-width\n",
      "                   match.\n",
      "        splititer  Return an iterator yielding the parts of a split string.\n",
      "        findall    Find all occurrences of a pattern in a string.\n",
      "        finditer   Return an iterator yielding a match object for each match.\n",
      "        compile    Compile a pattern into a Pattern object.\n",
      "        purge      Clear the regular expression cache.\n",
      "        escape     Backslash all non-alphanumerics or special characters in a\n",
      "                   string.\n",
      "    \n",
      "    Most of the functions support a concurrent parameter: if True, the GIL will be\n",
      "    released during matching, allowing other Python threads to run concurrently. If\n",
      "    the string changes during matching, the behaviour is undefined. This parameter\n",
      "    is not needed when working on the builtin (immutable) string classes.\n",
      "    \n",
      "    Some of the functions in this module take flags as optional parameters. Most of\n",
      "    these flags can also be set within an RE:\n",
      "        A   a   ASCII         Make \\w, \\W, \\b, \\B, \\d, and \\D match the\n",
      "                              corresponding ASCII character categories. Default\n",
      "                              when matching a bytestring.\n",
      "        B   b   BESTMATCH     Find the best fuzzy match (default is first).\n",
      "        D       DEBUG         Print the parsed pattern.\n",
      "        E   e   ENHANCEMATCH  Attempt to improve the fit after finding the first\n",
      "                              fuzzy match.\n",
      "        F   f   FULLCASE      Use full case-folding when performing\n",
      "                              case-insensitive matching in Unicode.\n",
      "        I   i   IGNORECASE    Perform case-insensitive matching.\n",
      "        L   L   LOCALE        Make \\w, \\W, \\b, \\B, \\d, and \\D dependent on the\n",
      "                              current locale. (One byte per character only.)\n",
      "        M   m   MULTILINE     \"^\" matches the beginning of lines (after a newline)\n",
      "                              as well as the string. \"$\" matches the end of lines\n",
      "                              (before a newline) as well as the end of the string.\n",
      "        P   p   POSIX         Perform POSIX-standard matching (leftmost longest).\n",
      "        R   r   REVERSE       Searches backwards.\n",
      "        S   s   DOTALL        \".\" matches any character at all, including the\n",
      "                              newline.\n",
      "        U   u   UNICODE       Make \\w, \\W, \\b, \\B, \\d, and \\D dependent on the\n",
      "                              Unicode locale. Default when matching a Unicode\n",
      "                              string.\n",
      "        V0  V0  VERSION0      Turn on the old legacy behaviour.\n",
      "        V1  V1  VERSION1      Turn on the new enhanced behaviour. This flag\n",
      "                              includes the FULLCASE flag.\n",
      "        W   w   WORD          Make \\b and \\B work with default Unicode word breaks\n",
      "                              and make \".\", \"^\" and \"$\" work with Unicode line\n",
      "                              breaks.\n",
      "        X   x   VERBOSE       Ignore whitespace and comments for nicer looking REs.\n",
      "    \n",
      "    This module also defines an exception 'error'.\n",
      "\n",
      "PACKAGE CONTENTS\n",
      "    _regex\n",
      "    _regex_core\n",
      "    regex\n",
      "    test_regex\n",
      "\n",
      "CLASSES\n",
      "    builtins.Exception(builtins.BaseException)\n",
      "        regex._regex_core.error\n",
      "    builtins.object\n",
      "        _regex.Match\n",
      "        _regex.Pattern\n",
      "        regex._regex_core.Scanner\n",
      "    enum.IntFlag(builtins.int, enum.ReprEnum, enum.Flag)\n",
      "        regex._regex_core.RegexFlag\n",
      "    \n",
      "    class Match(builtins.object)\n",
      "     |  Match object\n",
      "     |  \n",
      "     |  Methods defined here:\n",
      "     |  \n",
      "     |  __copy__(...)\n",
      "     |  \n",
      "     |  __deepcopy__(...)\n",
      "     |  \n",
      "     |  __getitem__(...)\n",
      "     |  \n",
      "     |  __len__(self, /)\n",
      "     |      Return len(self).\n",
      "     |  \n",
      "     |  __repr__(self, /)\n",
      "     |      Return repr(self).\n",
      "     |  \n",
      "     |  captures(...)\n",
      "     |      captures([group1, ...]) --> list of strings or tuple of list of strings.\n",
      "     |      Return the captures of one or more subgroups of the match.  If there is a\n",
      "     |      single argument, the result is a list of strings; if there are multiple\n",
      "     |      arguments, the result is a tuple of lists with one item per argument; if\n",
      "     |      there are no arguments, the captures of the whole match is returned.  Group\n",
      "     |      0 is the whole match.\n",
      "     |  \n",
      "     |  capturesdict(...)\n",
      "     |      capturesdict() --> dict.\n",
      "     |      Return a dictionary containing the captures of all the named subgroups of the\n",
      "     |      match, keyed by the subgroup name.\n",
      "     |  \n",
      "     |  detach_string(...)\n",
      "     |      detach_string()\n",
      "     |      Detaches the target string from the match object. The 'string' attribute\n",
      "     |      will become None.\n",
      "     |  \n",
      "     |  end(...)\n",
      "     |      end([group1, ...]) --> int or tuple of ints.\n",
      "     |      Return the index of the end of one or more subgroups of the match.  If there\n",
      "     |      is a single argument, the result is an index, or -1 if the group did not\n",
      "     |      contribute to the match; if there are multiple arguments, the result is a\n",
      "     |      tuple with one item per argument; if there are no arguments, the index of\n",
      "     |      the end of the whole match is returned.  Group 0 is the whole match.\n",
      "     |  \n",
      "     |  ends(...)\n",
      "     |      ends([group1, ...]) --> list of ints or tuple of list of ints.\n",
      "     |      Return the indices of the ends of the captures of one or more subgroups of\n",
      "     |      the match.  If there is a single argument, the result is a list of indices;\n",
      "     |      if there are multiple arguments, the result is a tuple of lists with one\n",
      "     |      item per argument; if there are no arguments, the indices of the ends of the\n",
      "     |      captures of the whole match is returned.  Group 0 is the whole match.\n",
      "     |  \n",
      "     |  expand(...)\n",
      "     |      expand(template) --> string.\n",
      "     |      Return the string obtained by doing backslash substitution on the template,\n",
      "     |      as done by the sub() method.\n",
      "     |  \n",
      "     |  expandf(...)\n",
      "     |      expandf(format) --> string.\n",
      "     |      Return the string obtained by using the format, as done by the subf()\n",
      "     |      method.\n",
      "     |  \n",
      "     |  group(...)\n",
      "     |      group([group1, ...]) --> string or tuple of strings.\n",
      "     |      Return one or more subgroups of the match.  If there is a single argument,\n",
      "     |      the result is a single string, or None if the group did not contribute to\n",
      "     |      the match; if there are multiple arguments, the result is a tuple with one\n",
      "     |      item per argument; if there are no arguments, the whole match is returned.\n",
      "     |      Group 0 is the whole match.\n",
      "     |  \n",
      "     |  groupdict(...)\n",
      "     |      groupdict(default=None) --> dict.\n",
      "     |      Return a dictionary containing all the named subgroups of the match, keyed\n",
      "     |      by the subgroup name.  The argument is the value to be given for groups that\n",
      "     |      did not participate in the match.\n",
      "     |  \n",
      "     |  groups(...)\n",
      "     |      groups(default=None) --> tuple of strings.\n",
      "     |      Return a tuple containing all the subgroups of the match.  The argument is\n",
      "     |      the default for groups that did not participate in the match.\n",
      "     |  \n",
      "     |  span(...)\n",
      "     |      span([group1, ...]) --> 2-tuple of int or tuple of 2-tuple of ints.\n",
      "     |      Return the span (a 2-tuple of the indices of the start and end) of one or\n",
      "     |      more subgroups of the match.  If there is a single argument, the result is a\n",
      "     |      span, or (-1, -1) if the group did not contribute to the match; if there are\n",
      "     |      multiple arguments, the result is a tuple with one item per argument; if\n",
      "     |      there are no arguments, the span of the whole match is returned.  Group 0 is\n",
      "     |      the whole match.\n",
      "     |  \n",
      "     |  spans(...)\n",
      "     |      spans([group1, ...]) --> list of 2-tuple of ints or tuple of list of 2-tuple of ints.\n",
      "     |      Return the spans (a 2-tuple of the indices of the start and end) of the\n",
      "     |      captures of one or more subgroups of the match.  If there is a single\n",
      "     |      argument, the result is a list of spans; if there are multiple arguments,\n",
      "     |      the result is a tuple of lists with one item per argument; if there are no\n",
      "     |      arguments, the spans of the captures of the whole match is returned.  Group\n",
      "     |      0 is the whole match.\n",
      "     |  \n",
      "     |  start(...)\n",
      "     |      start([group1, ...]) --> int or tuple of ints.\n",
      "     |      Return the index of the start of one or more subgroups of the match.  If\n",
      "     |      there is a single argument, the result is an index, or -1 if the group did\n",
      "     |      not contribute to the match; if there are multiple arguments, the result is\n",
      "     |      a tuple with one item per argument; if there are no arguments, the index of\n",
      "     |      the start of the whole match is returned.  Group 0 is the whole match.\n",
      "     |  \n",
      "     |  starts(...)\n",
      "     |      starts([group1, ...]) --> list of ints or tuple of list of ints.\n",
      "     |      Return the indices of the starts of the captures of one or more subgroups of\n",
      "     |      the match.  If there is a single argument, the result is a list of indices;\n",
      "     |      if there are multiple arguments, the result is a tuple of lists with one\n",
      "     |      item per argument; if there are no arguments, the indices of the starts of\n",
      "     |      the captures of the whole match is returned.  Group 0 is the whole match.\n",
      "     |  \n",
      "     |  ----------------------------------------------------------------------\n",
      "     |  Class methods defined here:\n",
      "     |  \n",
      "     |  __class_getitem__(...) from builtins.type\n",
      "     |      See PEP 585\n",
      "     |  \n",
      "     |  ----------------------------------------------------------------------\n",
      "     |  Data descriptors defined here:\n",
      "     |  \n",
      "     |  endpos\n",
      "     |      The final position beyond which the regex engine won't search.\n",
      "     |  \n",
      "     |  fuzzy_changes\n",
      "     |      A tuple of the positions of the substitutions, insertions and deletions.\n",
      "     |  \n",
      "     |  fuzzy_counts\n",
      "     |      A tuple of the number of substitutions, insertions and deletions.\n",
      "     |  \n",
      "     |  lastgroup\n",
      "     |      The name of the last matched capturing group, or None.\n",
      "     |  \n",
      "     |  lastindex\n",
      "     |      The group number of the last matched capturing group, or None.\n",
      "     |  \n",
      "     |  partial\n",
      "     |      Whether it's a partial match.\n",
      "     |  \n",
      "     |  pos\n",
      "     |      The position at which the regex engine starting searching.\n",
      "     |  \n",
      "     |  re\n",
      "     |      The regex object that produced this match object.\n",
      "     |  \n",
      "     |  regs\n",
      "     |      A tuple of the spans of the capturing groups.\n",
      "     |  \n",
      "     |  string\n",
      "     |      The string that was searched, or None if it has been detached.\n",
      "    \n",
      "    class Pattern(builtins.object)\n",
      "     |  Compiled regex object\n",
      "     |  \n",
      "     |  Methods defined here:\n",
      "     |  \n",
      "     |  __copy__(...)\n",
      "     |  \n",
      "     |  __deepcopy__(...)\n",
      "     |  \n",
      "     |  __repr__(self, /)\n",
      "     |      Return repr(self).\n",
      "     |  \n",
      "     |  __sizeof__(...)\n",
      "     |      Size of object in memory, in bytes.\n",
      "     |  \n",
      "     |  findall(...)\n",
      "     |      findall(string, pos=None, endpos=None, overlapped=False, concurrent=None, timeout=None) --> list.\n",
      "     |      Return a list of all matches of pattern in string.  The matches may be\n",
      "     |      overlapped if overlapped is True.\n",
      "     |  \n",
      "     |  finditer(...)\n",
      "     |      finditer(string, pos=None, endpos=None, overlapped=False, concurrent=None, timeout=None) --> iterator.\n",
      "     |      Return an iterator over all matches for the RE pattern in string.  The\n",
      "     |      matches may be overlapped if overlapped is True.  For each match, the\n",
      "     |      iterator returns a MatchObject.\n",
      "     |  \n",
      "     |  fullmatch(...)\n",
      "     |      fullmatch(string, pos=None, endpos=None, concurrent=None, timeout=None) --> MatchObject or None.\n",
      "     |      Match zero or more characters against all of the string.\n",
      "     |  \n",
      "     |  match(...)\n",
      "     |      match(string, pos=None, endpos=None, concurrent=None, timeout=None) --> MatchObject or None.\n",
      "     |      Match zero or more characters at the beginning of the string.\n",
      "     |  \n",
      "     |  scanner(...)\n",
      "     |      scanner(string, pos=None, endpos=None, overlapped=False, concurrent=None, timeout=None) --> scanner.\n",
      "     |      Return an scanner for the RE pattern in string.  The matches may be overlapped\n",
      "     |      if overlapped is True.\n",
      "     |  \n",
      "     |  search(...)\n",
      "     |      search(string, pos=None, endpos=None, concurrent=None, timeout=None) --> MatchObject or None.\n",
      "     |      Search through string looking for a match, and return a corresponding\n",
      "     |      match object instance.  Return None if no match is found.\n",
      "     |  \n",
      "     |  split(...)\n",
      "     |      split(string, maxsplit=0, concurrent=None, timeout=None) --> list.\n",
      "     |      Split string by the occurrences of pattern.\n",
      "     |  \n",
      "     |  splititer(...)\n",
      "     |      splititer(string, maxsplit=0, concurrent=None, timeout=None) --> iterator.\n",
      "     |      Return an iterator yielding the parts of a split string.\n",
      "     |  \n",
      "     |  sub(...)\n",
      "     |      sub(repl, string, count=0, flags=0, pos=None, endpos=None, concurrent=None, timeout=None) --> newstring\n",
      "     |      Return the string obtained by replacing the leftmost (or rightmost with a\n",
      "     |      reverse pattern) non-overlapping occurrences of pattern in string by the\n",
      "     |      replacement repl.\n",
      "     |  \n",
      "     |  subf(...)\n",
      "     |      subf(format, string, count=0, flags=0, pos=None, endpos=None, concurrent=None, timeout=None) --> newstring\n",
      "     |      Return the string obtained by replacing the leftmost (or rightmost with a\n",
      "     |      reverse pattern) non-overlapping occurrences of pattern in string by the\n",
      "     |      replacement format.\n",
      "     |  \n",
      "     |  subfn(...)\n",
      "     |      subfn(format, string, count=0, flags=0, pos=None, endpos=None, concurrent=None, timeout=None) --> (newstring, number of subs)\n",
      "     |      Return the tuple (new_string, number_of_subs_made) found by replacing the\n",
      "     |      leftmost (or rightmost with a reverse pattern) non-overlapping occurrences\n",
      "     |      of pattern with the replacement format.\n",
      "     |  \n",
      "     |  subn(...)\n",
      "     |      subn(repl, string, count=0, flags=0, pos=None, endpos=None, concurrent=None, timeout=None) --> (newstring, number of subs)\n",
      "     |      Return the tuple (new_string, number_of_subs_made) found by replacing the\n",
      "     |      leftmost (or rightmost with a reverse pattern) non-overlapping occurrences\n",
      "     |      of pattern with the replacement repl.\n",
      "     |  \n",
      "     |  ----------------------------------------------------------------------\n",
      "     |  Class methods defined here:\n",
      "     |  \n",
      "     |  __class_getitem__(...) from builtins.type\n",
      "     |      See PEP 585\n",
      "     |  \n",
      "     |  ----------------------------------------------------------------------\n",
      "     |  Data descriptors defined here:\n",
      "     |  \n",
      "     |  flags\n",
      "     |      The regex matching flags.\n",
      "     |  \n",
      "     |  groupindex\n",
      "     |      A dictionary mapping group names to group numbers.\n",
      "     |  \n",
      "     |  groups\n",
      "     |      The number of capturing groups in the pattern.\n",
      "     |  \n",
      "     |  named_lists\n",
      "     |      The named lists used by the regex.\n",
      "     |  \n",
      "     |  pattern\n",
      "     |      The pattern string from which the regex object was compiled.\n",
      "    \n",
      "    class RegexFlag(enum.IntFlag)\n",
      "     |  RegexFlag(value, names=None, *, module=None, qualname=None, type=None, start=1, boundary=None)\n",
      "     |  \n",
      "     |  # Flags.\n",
      "     |  \n",
      "     |  Method resolution order:\n",
      "     |      RegexFlag\n",
      "     |      enum.IntFlag\n",
      "     |      builtins.int\n",
      "     |      enum.ReprEnum\n",
      "     |      enum.Flag\n",
      "     |      enum.Enum\n",
      "     |      builtins.object\n",
      "     |  \n",
      "     |  Methods defined here:\n",
      "     |  \n",
      "     |  __and__(self, other)\n",
      "     |  \n",
      "     |  __format__(self, format_spec, /)\n",
      "     |      Default object formatter.\n",
      "     |  \n",
      "     |  __invert__(self)\n",
      "     |  \n",
      "     |  __new__(cls, value)\n",
      "     |      Create and return a new object.  See help(type) for accurate signature.\n",
      "     |  \n",
      "     |  __or__(self, other)\n",
      "     |      Return self|value.\n",
      "     |  \n",
      "     |  __rand__ = __and__(self, other)\n",
      "     |  \n",
      "     |  __repr__(self)\n",
      "     |      Return repr(self).\n",
      "     |  \n",
      "     |  __ror__ = __or__(self, other)\n",
      "     |  \n",
      "     |  __rxor__ = __xor__(self, other)\n",
      "     |  \n",
      "     |  __str__(self, /)\n",
      "     |      Return str(self).\n",
      "     |  \n",
      "     |  __xor__(self, other)\n",
      "     |  \n",
      "     |  ----------------------------------------------------------------------\n",
      "     |  Data and other attributes defined here:\n",
      "     |  \n",
      "     |  A = regex.A\n",
      "     |  \n",
      "     |  B = regex.B\n",
      "     |  \n",
      "     |  D = regex.D\n",
      "     |  \n",
      "     |  E = regex.E\n",
      "     |  \n",
      "     |  F = regex.F\n",
      "     |  \n",
      "     |  I = regex.I\n",
      "     |  \n",
      "     |  L = regex.L\n",
      "     |  \n",
      "     |  M = regex.M\n",
      "     |  \n",
      "     |  P = regex.P\n",
      "     |  \n",
      "     |  R = regex.R\n",
      "     |  \n",
      "     |  S = regex.S\n",
      "     |  \n",
      "     |  T = regex.T\n",
      "     |  \n",
      "     |  U = regex.U\n",
      "     |  \n",
      "     |  V0 = regex.V0\n",
      "     |  \n",
      "     |  V1 = regex.V1\n",
      "     |  \n",
      "     |  W = regex.W\n",
      "     |  \n",
      "     |  X = regex.X\n",
      "     |  \n",
      "     |  ----------------------------------------------------------------------\n",
      "     |  Methods inherited from builtins.int:\n",
      "     |  \n",
      "     |  __abs__(self, /)\n",
      "     |      abs(self)\n",
      "     |  \n",
      "     |  __add__(self, value, /)\n",
      "     |      Return self+value.\n",
      "     |  \n",
      "     |  __bool__(self, /)\n",
      "     |      True if self else False\n",
      "     |  \n",
      "     |  __ceil__(...)\n",
      "     |      Ceiling of an Integral returns itself.\n",
      "     |  \n",
      "     |  __divmod__(self, value, /)\n",
      "     |      Return divmod(self, value).\n",
      "     |  \n",
      "     |  __eq__(self, value, /)\n",
      "     |      Return self==value.\n",
      "     |  \n",
      "     |  __float__(self, /)\n",
      "     |      float(self)\n",
      "     |  \n",
      "     |  __floor__(...)\n",
      "     |      Flooring an Integral returns itself.\n",
      "     |  \n",
      "     |  __floordiv__(self, value, /)\n",
      "     |      Return self//value.\n",
      "     |  \n",
      "     |  __ge__(self, value, /)\n",
      "     |      Return self>=value.\n",
      "     |  \n",
      "     |  __getattribute__(self, name, /)\n",
      "     |      Return getattr(self, name).\n",
      "     |  \n",
      "     |  __getnewargs__(self, /)\n",
      "     |  \n",
      "     |  __gt__(self, value, /)\n",
      "     |      Return self>value.\n",
      "     |  \n",
      "     |  __hash__(self, /)\n",
      "     |      Return hash(self).\n",
      "     |  \n",
      "     |  __index__(self, /)\n",
      "     |      Return self converted to an integer, if self is suitable for use as an index into a list.\n",
      "     |  \n",
      "     |  __int__(self, /)\n",
      "     |      int(self)\n",
      "     |  \n",
      "     |  __le__(self, value, /)\n",
      "     |      Return self<=value.\n",
      "     |  \n",
      "     |  __lshift__(self, value, /)\n",
      "     |      Return self<<value.\n",
      "     |  \n",
      "     |  __lt__(self, value, /)\n",
      "     |      Return self<value.\n",
      "     |  \n",
      "     |  __mod__(self, value, /)\n",
      "     |      Return self%value.\n",
      "     |  \n",
      "     |  __mul__(self, value, /)\n",
      "     |      Return self*value.\n",
      "     |  \n",
      "     |  __ne__(self, value, /)\n",
      "     |      Return self!=value.\n",
      "     |  \n",
      "     |  __neg__(self, /)\n",
      "     |      -self\n",
      "     |  \n",
      "     |  __pos__(self, /)\n",
      "     |      +self\n",
      "     |  \n",
      "     |  __pow__(self, value, mod=None, /)\n",
      "     |      Return pow(self, value, mod).\n",
      "     |  \n",
      "     |  __radd__(self, value, /)\n",
      "     |      Return value+self.\n",
      "     |  \n",
      "     |  __rdivmod__(self, value, /)\n",
      "     |      Return divmod(value, self).\n",
      "     |  \n",
      "     |  __rfloordiv__(self, value, /)\n",
      "     |      Return value//self.\n",
      "     |  \n",
      "     |  __rlshift__(self, value, /)\n",
      "     |      Return value<<self.\n",
      "     |  \n",
      "     |  __rmod__(self, value, /)\n",
      "     |      Return value%self.\n",
      "     |  \n",
      "     |  __rmul__(self, value, /)\n",
      "     |      Return value*self.\n",
      "     |  \n",
      "     |  __round__(...)\n",
      "     |      Rounding an Integral returns itself.\n",
      "     |      \n",
      "     |      Rounding with an ndigits argument also returns an integer.\n",
      "     |  \n",
      "     |  __rpow__(self, value, mod=None, /)\n",
      "     |      Return pow(value, self, mod).\n",
      "     |  \n",
      "     |  __rrshift__(self, value, /)\n",
      "     |      Return value>>self.\n",
      "     |  \n",
      "     |  __rshift__(self, value, /)\n",
      "     |      Return self>>value.\n",
      "     |  \n",
      "     |  __rsub__(self, value, /)\n",
      "     |      Return value-self.\n",
      "     |  \n",
      "     |  __rtruediv__(self, value, /)\n",
      "     |      Return value/self.\n",
      "     |  \n",
      "     |  __sizeof__(self, /)\n",
      "     |      Returns size in memory, in bytes.\n",
      "     |  \n",
      "     |  __sub__(self, value, /)\n",
      "     |      Return self-value.\n",
      "     |  \n",
      "     |  __truediv__(self, value, /)\n",
      "     |      Return self/value.\n",
      "     |  \n",
      "     |  __trunc__(...)\n",
      "     |      Truncating an Integral returns itself.\n",
      "     |  \n",
      "     |  as_integer_ratio(self, /)\n",
      "     |      Return integer ratio.\n",
      "     |      \n",
      "     |      Return a pair of integers, whose ratio is exactly equal to the original int\n",
      "     |      and with a positive denominator.\n",
      "     |      \n",
      "     |      >>> (10).as_integer_ratio()\n",
      "     |      (10, 1)\n",
      "     |      >>> (-10).as_integer_ratio()\n",
      "     |      (-10, 1)\n",
      "     |      >>> (0).as_integer_ratio()\n",
      "     |      (0, 1)\n",
      "     |  \n",
      "     |  bit_count(self, /)\n",
      "     |      Number of ones in the binary representation of the absolute value of self.\n",
      "     |      \n",
      "     |      Also known as the population count.\n",
      "     |      \n",
      "     |      >>> bin(13)\n",
      "     |      '0b1101'\n",
      "     |      >>> (13).bit_count()\n",
      "     |      3\n",
      "     |  \n",
      "     |  bit_length(self, /)\n",
      "     |      Number of bits necessary to represent self in binary.\n",
      "     |      \n",
      "     |      >>> bin(37)\n",
      "     |      '0b100101'\n",
      "     |      >>> (37).bit_length()\n",
      "     |      6\n",
      "     |  \n",
      "     |  conjugate(...)\n",
      "     |      Returns self, the complex conjugate of any int.\n",
      "     |  \n",
      "     |  to_bytes(self, /, length=1, byteorder='big', *, signed=False)\n",
      "     |      Return an array of bytes representing an integer.\n",
      "     |      \n",
      "     |      length\n",
      "     |        Length of bytes object to use.  An OverflowError is raised if the\n",
      "     |        integer is not representable with the given number of bytes.  Default\n",
      "     |        is length 1.\n",
      "     |      byteorder\n",
      "     |        The byte order used to represent the integer.  If byteorder is 'big',\n",
      "     |        the most significant byte is at the beginning of the byte array.  If\n",
      "     |        byteorder is 'little', the most significant byte is at the end of the\n",
      "     |        byte array.  To request the native byte order of the host system, use\n",
      "     |        `sys.byteorder' as the byte order value.  Default is to use 'big'.\n",
      "     |      signed\n",
      "     |        Determines whether two's complement is used to represent the integer.\n",
      "     |        If signed is False and a negative integer is given, an OverflowError\n",
      "     |        is raised.\n",
      "     |  \n",
      "     |  ----------------------------------------------------------------------\n",
      "     |  Class methods inherited from builtins.int:\n",
      "     |  \n",
      "     |  from_bytes(bytes, byteorder='big', *, signed=False) from enum.EnumType\n",
      "     |      Return the integer represented by the given array of bytes.\n",
      "     |      \n",
      "     |      bytes\n",
      "     |        Holds the array of bytes to convert.  The argument must either\n",
      "     |        support the buffer protocol or be an iterable object producing bytes.\n",
      "     |        Bytes and bytearray are examples of built-in objects that support the\n",
      "     |        buffer protocol.\n",
      "     |      byteorder\n",
      "     |        The byte order used to represent the integer.  If byteorder is 'big',\n",
      "     |        the most significant byte is at the beginning of the byte array.  If\n",
      "     |        byteorder is 'little', the most significant byte is at the end of the\n",
      "     |        byte array.  To request the native byte order of the host system, use\n",
      "     |        `sys.byteorder' as the byte order value.  Default is to use 'big'.\n",
      "     |      signed\n",
      "     |        Indicates whether two's complement is used to represent the integer.\n",
      "     |  \n",
      "     |  ----------------------------------------------------------------------\n",
      "     |  Data descriptors inherited from builtins.int:\n",
      "     |  \n",
      "     |  denominator\n",
      "     |      the denominator of a rational number in lowest terms\n",
      "     |  \n",
      "     |  imag\n",
      "     |      the imaginary part of a complex number\n",
      "     |  \n",
      "     |  numerator\n",
      "     |      the numerator of a rational number in lowest terms\n",
      "     |  \n",
      "     |  real\n",
      "     |      the real part of a complex number\n",
      "     |  \n",
      "     |  ----------------------------------------------------------------------\n",
      "     |  Methods inherited from enum.Flag:\n",
      "     |  \n",
      "     |  __contains__(self, other)\n",
      "     |      Returns True if self has at least the same flags set as other.\n",
      "     |  \n",
      "     |  __iter__(self)\n",
      "     |      Returns flags in definition order.\n",
      "     |  \n",
      "     |  __len__(self)\n",
      "     |      Return the number of members (no aliases)\n",
      "     |  \n",
      "     |  ----------------------------------------------------------------------\n",
      "     |  Methods inherited from enum.Enum:\n",
      "     |  \n",
      "     |  __dir__(self)\n",
      "     |      Returns all members and all public methods\n",
      "     |  \n",
      "     |  __init__(self, *args, **kwds)\n",
      "     |      Initialize self.  See help(type(self)) for accurate signature.\n",
      "     |  \n",
      "     |  __reduce_ex__(self, proto)\n",
      "     |      Helper for pickle.\n",
      "     |  \n",
      "     |  ----------------------------------------------------------------------\n",
      "     |  Data descriptors inherited from enum.Enum:\n",
      "     |  \n",
      "     |  name\n",
      "     |      The name of the Enum member.\n",
      "     |  \n",
      "     |  value\n",
      "     |      The value of the Enum member.\n",
      "     |  \n",
      "     |  ----------------------------------------------------------------------\n",
      "     |  Methods inherited from enum.EnumType:\n",
      "     |  \n",
      "     |  __getitem__(name) from enum.EnumType\n",
      "     |      Return the member matching `name`.\n",
      "     |  \n",
      "     |  ----------------------------------------------------------------------\n",
      "     |  Readonly properties inherited from enum.EnumType:\n",
      "     |  \n",
      "     |  __members__\n",
      "     |      Returns a mapping of member name->value.\n",
      "     |      \n",
      "     |      This mapping lists all enum members, including aliases. Note that this\n",
      "     |      is a read-only view of the internal mapping.\n",
      "    \n",
      "    class Scanner(builtins.object)\n",
      "     |  Scanner(lexicon, flags=0)\n",
      "     |  \n",
      "     |  Methods defined here:\n",
      "     |  \n",
      "     |  __init__(self, lexicon, flags=0)\n",
      "     |      Initialize self.  See help(type(self)) for accurate signature.\n",
      "     |  \n",
      "     |  scan(self, string)\n",
      "     |  \n",
      "     |  ----------------------------------------------------------------------\n",
      "     |  Data descriptors defined here:\n",
      "     |  \n",
      "     |  __dict__\n",
      "     |      dictionary for instance variables (if defined)\n",
      "     |  \n",
      "     |  __weakref__\n",
      "     |      list of weak references to the object (if defined)\n",
      "    \n",
      "    class error(builtins.Exception)\n",
      "     |  error(message, pattern=None, pos=None)\n",
      "     |  \n",
      "     |  Exception raised for invalid regular expressions.\n",
      "     |  \n",
      "     |  Attributes:\n",
      "     |  \n",
      "     |      msg: The unformatted error message\n",
      "     |      pattern: The regular expression pattern\n",
      "     |      pos: The position in the pattern where compilation failed, or None\n",
      "     |      lineno: The line number where compilation failed, unless pos is None\n",
      "     |      colno: The column number where compilation failed, unless pos is None\n",
      "     |  \n",
      "     |  Method resolution order:\n",
      "     |      error\n",
      "     |      builtins.Exception\n",
      "     |      builtins.BaseException\n",
      "     |      builtins.object\n",
      "     |  \n",
      "     |  Methods defined here:\n",
      "     |  \n",
      "     |  __init__(self, message, pattern=None, pos=None)\n",
      "     |      Initialize self.  See help(type(self)) for accurate signature.\n",
      "     |  \n",
      "     |  ----------------------------------------------------------------------\n",
      "     |  Data descriptors defined here:\n",
      "     |  \n",
      "     |  __weakref__\n",
      "     |      list of weak references to the object (if defined)\n",
      "     |  \n",
      "     |  ----------------------------------------------------------------------\n",
      "     |  Static methods inherited from builtins.Exception:\n",
      "     |  \n",
      "     |  __new__(*args, **kwargs) from builtins.type\n",
      "     |      Create and return a new object.  See help(type) for accurate signature.\n",
      "     |  \n",
      "     |  ----------------------------------------------------------------------\n",
      "     |  Methods inherited from builtins.BaseException:\n",
      "     |  \n",
      "     |  __delattr__(self, name, /)\n",
      "     |      Implement delattr(self, name).\n",
      "     |  \n",
      "     |  __getattribute__(self, name, /)\n",
      "     |      Return getattr(self, name).\n",
      "     |  \n",
      "     |  __reduce__(...)\n",
      "     |      Helper for pickle.\n",
      "     |  \n",
      "     |  __repr__(self, /)\n",
      "     |      Return repr(self).\n",
      "     |  \n",
      "     |  __setattr__(self, name, value, /)\n",
      "     |      Implement setattr(self, name, value).\n",
      "     |  \n",
      "     |  __setstate__(...)\n",
      "     |  \n",
      "     |  __str__(self, /)\n",
      "     |      Return str(self).\n",
      "     |  \n",
      "     |  add_note(...)\n",
      "     |      Exception.add_note(note) --\n",
      "     |      add a note to the exception\n",
      "     |  \n",
      "     |  with_traceback(...)\n",
      "     |      Exception.with_traceback(tb) --\n",
      "     |      set self.__traceback__ to tb and return self.\n",
      "     |  \n",
      "     |  ----------------------------------------------------------------------\n",
      "     |  Data descriptors inherited from builtins.BaseException:\n",
      "     |  \n",
      "     |  __cause__\n",
      "     |      exception cause\n",
      "     |  \n",
      "     |  __context__\n",
      "     |      exception context\n",
      "     |  \n",
      "     |  __dict__\n",
      "     |  \n",
      "     |  __suppress_context__\n",
      "     |  \n",
      "     |  __traceback__\n",
      "     |  \n",
      "     |  args\n",
      "\n",
      "FUNCTIONS\n",
      "    Regex = compile(pattern, flags=0, ignore_unused=False, cache_pattern=None, **kwargs)\n",
      "        Compile a regular expression pattern, returning a pattern object.\n",
      "    \n",
      "    cache_all(value=True)\n",
      "        Sets whether to cache all patterns, even those are compiled explicitly.\n",
      "        Passing None has no effect, but returns the current setting.\n",
      "    \n",
      "    compile(pattern, flags=0, ignore_unused=False, cache_pattern=None, **kwargs)\n",
      "        Compile a regular expression pattern, returning a pattern object.\n",
      "    \n",
      "    escape(pattern, special_only=True, literal_spaces=False)\n",
      "        Escape a string for use as a literal in a pattern. If special_only is\n",
      "        True, escape only special characters, else escape all non-alphanumeric\n",
      "        characters. If literal_spaces is True, don't escape spaces.\n",
      "    \n",
      "    findall(pattern, string, flags=0, pos=None, endpos=None, overlapped=False, concurrent=None, timeout=None, ignore_unused=False, **kwargs)\n",
      "        Return a list of all matches in the string. The matches may be overlapped\n",
      "        if overlapped is True. If one or more groups are present in the pattern,\n",
      "        return a list of groups; this will be a list of tuples if the pattern has\n",
      "        more than one group. Empty matches are included in the result.\n",
      "    \n",
      "    finditer(pattern, string, flags=0, pos=None, endpos=None, overlapped=False, partial=False, concurrent=None, timeout=None, ignore_unused=False, **kwargs)\n",
      "        Return an iterator over all matches in the string. The matches may be\n",
      "        overlapped if overlapped is True. For each match, the iterator returns a\n",
      "        match object. Empty matches are included in the result.\n",
      "    \n",
      "    fullmatch(pattern, string, flags=0, pos=None, endpos=None, partial=False, concurrent=None, timeout=None, ignore_unused=False, **kwargs)\n",
      "        Try to apply the pattern against all of the string, returning a match\n",
      "        object, or None if no match was found.\n",
      "    \n",
      "    match(pattern, string, flags=0, pos=None, endpos=None, partial=False, concurrent=None, timeout=None, ignore_unused=False, **kwargs)\n",
      "        Try to apply the pattern at the start of the string, returning a match\n",
      "        object, or None if no match was found.\n",
      "    \n",
      "    purge()\n",
      "        Clear the regular expression cache\n",
      "    \n",
      "    search(pattern, string, flags=0, pos=None, endpos=None, partial=False, concurrent=None, timeout=None, ignore_unused=False, **kwargs)\n",
      "        Search through string looking for a match to the pattern, returning a\n",
      "        match object, or None if no match was found.\n",
      "    \n",
      "    split(pattern, string, maxsplit=0, flags=0, concurrent=None, timeout=None, ignore_unused=False, **kwargs)\n",
      "        Split the source string by the occurrences of the pattern, returning a\n",
      "        list containing the resulting substrings.  If capturing parentheses are used\n",
      "        in pattern, then the text of all groups in the pattern are also returned as\n",
      "        part of the resulting list.  If maxsplit is nonzero, at most maxsplit splits\n",
      "        occur, and the remainder of the string is returned as the final element of\n",
      "        the list.\n",
      "    \n",
      "    splititer(pattern, string, maxsplit=0, flags=0, concurrent=None, timeout=None, ignore_unused=False, **kwargs)\n",
      "        Return an iterator yielding the parts of a split string.\n",
      "    \n",
      "    sub(pattern, repl, string, count=0, flags=0, pos=None, endpos=None, concurrent=None, timeout=None, ignore_unused=False, **kwargs)\n",
      "        Return the string obtained by replacing the leftmost (or rightmost with a\n",
      "        reverse pattern) non-overlapping occurrences of the pattern in string by the\n",
      "        replacement repl. repl can be either a string or a callable; if a string,\n",
      "        backslash escapes in it are processed; if a callable, it's passed the match\n",
      "        object and must return a replacement string to be used.\n",
      "    \n",
      "    subf(pattern, format, string, count=0, flags=0, pos=None, endpos=None, concurrent=None, timeout=None, ignore_unused=False, **kwargs)\n",
      "        Return the string obtained by replacing the leftmost (or rightmost with a\n",
      "        reverse pattern) non-overlapping occurrences of the pattern in string by the\n",
      "        replacement format. format can be either a string or a callable; if a string,\n",
      "        it's treated as a format string; if a callable, it's passed the match object\n",
      "        and must return a replacement string to be used.\n",
      "    \n",
      "    subfn(pattern, format, string, count=0, flags=0, pos=None, endpos=None, concurrent=None, timeout=None, ignore_unused=False, **kwargs)\n",
      "        Return a 2-tuple containing (new_string, number). new_string is the string\n",
      "        obtained by replacing the leftmost (or rightmost with a reverse pattern)\n",
      "        non-overlapping occurrences of the pattern in the source string by the\n",
      "        replacement format. number is the number of substitutions that were made. format\n",
      "        can be either a string or a callable; if a string, it's treated as a format\n",
      "        string; if a callable, it's passed the match object and must return a\n",
      "        replacement string to be used.\n",
      "    \n",
      "    subn(pattern, repl, string, count=0, flags=0, pos=None, endpos=None, concurrent=None, timeout=None, ignore_unused=False, **kwargs)\n",
      "        Return a 2-tuple containing (new_string, number). new_string is the string\n",
      "        obtained by replacing the leftmost (or rightmost with a reverse pattern)\n",
      "        non-overlapping occurrences of the pattern in the source string by the\n",
      "        replacement repl. number is the number of substitutions that were made. repl\n",
      "        can be either a string or a callable; if a string, backslash escapes in it\n",
      "        are processed; if a callable, it's passed the match object and must return a\n",
      "        replacement string to be used.\n",
      "    \n",
      "    template(pattern, flags=0)\n",
      "        Compile a template pattern, returning a pattern object.\n",
      "\n",
      "DATA\n",
      "    A = regex.A\n",
      "    ASCII = regex.A\n",
      "    B = regex.B\n",
      "    BESTMATCH = regex.B\n",
      "    D = regex.D\n",
      "    DEBUG = regex.D\n",
      "    DEFAULT_VERSION = regex.V0\n",
      "    DOTALL = regex.S\n",
      "    E = regex.E\n",
      "    ENHANCEMATCH = regex.E\n",
      "    F = regex.F\n",
      "    FULLCASE = regex.F\n",
      "    I = regex.I\n",
      "    IGNORECASE = regex.I\n",
      "    L = regex.L\n",
      "    LOCALE = regex.L\n",
      "    M = regex.M\n",
      "    MULTILINE = regex.M\n",
      "    P = regex.P\n",
      "    POSIX = regex.P\n",
      "    R = regex.R\n",
      "    REVERSE = regex.R\n",
      "    S = regex.S\n",
      "    T = regex.T\n",
      "    TEMPLATE = regex.T\n",
      "    U = regex.U\n",
      "    UNICODE = regex.U\n",
      "    V0 = regex.V0\n",
      "    V1 = regex.V1\n",
      "    VERBOSE = regex.X\n",
      "    VERSION0 = regex.V0\n",
      "    VERSION1 = regex.V1\n",
      "    W = regex.W\n",
      "    WORD = regex.W\n",
      "    X = regex.X\n",
      "    __all__ = ['cache_all', 'compile', 'DEFAULT_VERSION', 'escape', 'finda...\n",
      "\n",
      "VERSION\n",
      "    2.5.116\n",
      "\n",
      "FILE\n",
      "    c:\\users\\dell\\anaconda3\\lib\\site-packages\\regex\\__init__.py\n",
      "\n",
      "\n",
      "None\n"
     ]
    }
   ],
   "source": [
    "print(help(re))"
   ]
  },
  {
   "cell_type": "code",
   "execution_count": 3,
   "id": "c286cc7b",
   "metadata": {},
   "outputs": [
    {
     "name": "stdout",
     "output_type": "stream",
     "text": [
      "A\n",
      "ASCII\n",
      "B\n",
      "BESTMATCH\n",
      "D\n",
      "DEBUG\n",
      "DEFAULT_VERSION\n",
      "DOTALL\n",
      "E\n",
      "ENHANCEMATCH\n",
      "F\n",
      "FULLCASE\n",
      "I\n",
      "IGNORECASE\n",
      "L\n",
      "LOCALE\n",
      "M\n",
      "MULTILINE\n",
      "Match\n",
      "P\n",
      "POSIX\n",
      "Pattern\n",
      "R\n",
      "REVERSE\n",
      "Regex\n",
      "RegexFlag\n",
      "S\n",
      "Scanner\n",
      "T\n",
      "TEMPLATE\n",
      "U\n",
      "UNICODE\n",
      "V0\n",
      "V1\n",
      "VERBOSE\n",
      "VERSION0\n",
      "VERSION1\n",
      "W\n",
      "WORD\n",
      "X\n",
      "__all__\n",
      "__builtins__\n",
      "__cached__\n",
      "__doc__\n",
      "__file__\n",
      "__loader__\n",
      "__name__\n",
      "__package__\n",
      "__path__\n",
      "__spec__\n",
      "__version__\n",
      "_regex\n",
      "_regex_core\n",
      "cache_all\n",
      "compile\n",
      "error\n",
      "escape\n",
      "findall\n",
      "finditer\n",
      "fullmatch\n",
      "match\n",
      "purge\n",
      "regex\n",
      "search\n",
      "split\n",
      "splititer\n",
      "sub\n",
      "subf\n",
      "subfn\n",
      "subn\n",
      "template\n"
     ]
    }
   ],
   "source": [
    "for i in dir(re):\n",
    "    print(i)"
   ]
  },
  {
   "cell_type": "code",
   "execution_count": 4,
   "id": "e278d42b",
   "metadata": {},
   "outputs": [
    {
     "name": "stdout",
     "output_type": "stream",
     "text": [
      "71\n"
     ]
    }
   ],
   "source": [
    "print(len(dir(re)))"
   ]
  },
  {
   "cell_type": "markdown",
   "id": "ec4bc2a8",
   "metadata": {},
   "source": [
    "# Metacharacters"
   ]
  },
  {
   "cell_type": "markdown",
   "id": "ddcb294a",
   "metadata": {},
   "source": [
    "Metacharacters are special characters with a special meaning that affect how the regular expressions around them are interpreted.\n",
    "\n",
    "Metacharacters dont match themselves instead they indicate that some rules. Characters or sign like |,+, or *, are special characters.\n",
    "\n",
    "Metacharacters also called as operators, sign or symbols."
   ]
  },
  {
   "cell_type": "markdown",
   "id": "c49d5506",
   "metadata": {},
   "source": [
    ".(DOT) - Matches any character except the newline character.\n",
    "\n",
    "^(Caret) - Matches pattern only at the start of the string(starts with).\n",
    "\n",
    "$(Dollar) - Matches the pattern at the end of the string(ends with).\n",
    "\n",
    "(* astrick) - Matches zero or more repeations of the regex(zero or more occurrences)\n",
    "\n",
    "+(Plus) - Matches 1 or more repeations of the regex(one or more occurrences)\n",
    "\n",
    "?(Question mark) - Matches 0 or 1 repeations of the regex(0 or 1 occurrences)\n",
    "\n",
    "[](Square brackets) - Used to indicate a set of characters. Matches any single character in a brackets. Eg,[abc] matches a or b or c character.\n",
    "\n",
    "|(Pipe) - Used to specify multiple pattern (Either OR). For example, P1|P2 where P1 and P2 are two different regex.\n",
    "\n",
    "(backslash) - Used to escape special characters or signals a special sequence. Example, If we search for one of special character then we can use a \\ to escape them.\n",
    "\n",
    "[^...] - Matches any single character not in the brackets.\n",
    "\n",
    "(...) - Matches whatever regular expression is inside the paranthesis. For example, (abc) will match to the substring 'abc'.\n",
    "\n",
    "{} - Exactly the specified number of occurrences."
   ]
  },
  {
   "cell_type": "code",
   "execution_count": 5,
   "id": "fa27345b",
   "metadata": {},
   "outputs": [
    {
     "data": {
      "text/plain": [
       "['Regex']"
      ]
     },
     "execution_count": 5,
     "metadata": {},
     "output_type": "execute_result"
    }
   ],
   "source": [
    "string1 = \"Python Regular Expression Regex\"\n",
    "pattern = 'Regex'\n",
    "\n",
    "a = re.findall(pattern,string1)\n",
    "a"
   ]
  },
  {
   "cell_type": "code",
   "execution_count": 6,
   "id": "4f13e528",
   "metadata": {},
   "outputs": [
    {
     "data": {
      "text/plain": [
       "['R', 'E', 'R']"
      ]
     },
     "execution_count": 6,
     "metadata": {},
     "output_type": "execute_result"
    }
   ],
   "source": [
    "b=re.findall(\"[RER]\",string1)\n",
    "b"
   ]
  },
  {
   "cell_type": "code",
   "execution_count": 7,
   "id": "8ec72805",
   "metadata": {},
   "outputs": [
    {
     "data": {
      "text/plain": [
       "['P',\n",
       " 'y',\n",
       " 't',\n",
       " 'h',\n",
       " 'o',\n",
       " 'n',\n",
       " ' ',\n",
       " ' ',\n",
       " 'E',\n",
       " 'x',\n",
       " 'p',\n",
       " 's',\n",
       " 's',\n",
       " 'i',\n",
       " 'o',\n",
       " 'n',\n",
       " ' ',\n",
       " 'x']"
      ]
     },
     "execution_count": 7,
     "metadata": {},
     "output_type": "execute_result"
    }
   ],
   "source": [
    "c= re.findall(\"[^Regular]\",string1)\n",
    "c"
   ]
  },
  {
   "cell_type": "code",
   "execution_count": 8,
   "id": "6731c642",
   "metadata": {},
   "outputs": [
    {
     "data": {
      "text/plain": [
       "['1', '2', '3', '4']"
      ]
     },
     "execution_count": 8,
     "metadata": {},
     "output_type": "execute_result"
    }
   ],
   "source": [
    "string2=\"1234\"\n",
    "d=re.findall(\"[0-4]\",string2)\n",
    "d"
   ]
  },
  {
   "cell_type": "markdown",
   "id": "82aef46c",
   "metadata": {},
   "source": [
    "# Special Sequences"
   ]
  },
  {
   "cell_type": "markdown",
   "id": "18211fec",
   "metadata": {},
   "source": [
    "A special sequence is a \\ followed by one of the characters in the list below and has a special meaning:\n",
    "    \n",
    "    \\A - Returns a match if specified characters are at the beginning of the string\n",
    "    \n",
    "    \\b - Returns a match where a specified character at the beginning or end of the string (\"r\" in the beginning is making sure that the string is treated as a \"raw string\"). Example : r\"\\bain\" or r'ain\\b'\n",
    "    \n",
    "    \\B - Returns a match where a specified character are present not at the beginning or end of the word.(\"r\" in the beginning is making sure that the string is treated as a \"raw string\"). Example : r\"\\Bain\" or r'ain\\B'\n",
    "    \n",
    "    \\d - Returns a match where string contains digits.(0-9)\n",
    "    \n",
    "    \\D - Returns a match where string does not contains digits.\n",
    "    \n",
    "    \\s - Returns a match where string contains a whitespace character.\n",
    "    \n",
    "    \\S - Returns a match where string does not contains a whitespace character.\n",
    "    \n",
    "    \\w - Returns a match where string contains any word character. (characters from a to z, 0-9 and underscore _ character)\n",
    "    \n",
    "    \\W - Returns a match where string does not contains any word character.\n",
    "    \n",
    "    \\Z - Returns a match if specified character are at the end of the string."
   ]
  },
  {
   "cell_type": "markdown",
   "id": "2abe2d38",
   "metadata": {},
   "source": [
    "# RegEx Functions"
   ]
  },
  {
   "cell_type": "markdown",
   "id": "8eb9f043",
   "metadata": {},
   "source": [
    "The re module offers a set of functions that allows us to search a string for a match\n",
    "\n",
    "findall() - Returns a list containing all matches\n",
    "\n",
    "search() - Returns a match object if there is a match anywhere in the string.\n",
    "\n",
    "split() - Returns a list where the string has been split at each match.\n",
    "\n",
    "sub() - Replaces one or many matches with the string."
   ]
  },
  {
   "cell_type": "markdown",
   "id": "7bcc3029",
   "metadata": {},
   "source": [
    "# Findall"
   ]
  },
  {
   "cell_type": "markdown",
   "id": "ca73561a",
   "metadata": {},
   "source": [
    "The re.findall() scans the target string from left to right as per the regular expression pattern and returns all the matches in the order they were found.\n",
    "\n",
    "It returns None if it fails to locate the occurrences of the pattern or such a pattern doesnt exist in a target string."
   ]
  },
  {
   "cell_type": "code",
   "execution_count": 9,
   "id": "fc78a63e",
   "metadata": {},
   "outputs": [
    {
     "data": {
      "text/plain": [
       "['Data Science', 'data science']"
      ]
     },
     "execution_count": 9,
     "metadata": {},
     "output_type": "execute_result"
    }
   ],
   "source": [
    "pattern = \"Data Science|data science\"\n",
    "string1 = \"Data Science is a stream part of AI. you can solve complex problems using data science techniques\"\n",
    "\n",
    "x= re.findall(pattern,string1)\n",
    "x"
   ]
  },
  {
   "cell_type": "code",
   "execution_count": 10,
   "id": "d7bacb23",
   "metadata": {},
   "outputs": [
    {
     "data": {
      "text/plain": [
       "['Data Science', 'stream', 'part', 'AI', 'data science']"
      ]
     },
     "execution_count": 10,
     "metadata": {},
     "output_type": "execute_result"
    }
   ],
   "source": [
    "pattern = \"Data Science|data science|stream|AI|part\"\n",
    "string1 = \"Data Science is a stream part of AI. you can solve complex problems using data science techniques\"\n",
    "\n",
    "x= re.findall(pattern,string1)\n",
    "x"
   ]
  },
  {
   "cell_type": "markdown",
   "id": "dd310571",
   "metadata": {},
   "source": [
    "# Extracting digits from a string"
   ]
  },
  {
   "cell_type": "markdown",
   "id": "cc675f57",
   "metadata": {},
   "source": [
    "Write a regular expression to search digit inside a string."
   ]
  },
  {
   "cell_type": "code",
   "execution_count": 11,
   "id": "dfb1a849",
   "metadata": {},
   "outputs": [
    {
     "data": {
      "text/plain": [
       "['2345', '12', '3455']"
      ]
     },
     "execution_count": 11,
     "metadata": {},
     "output_type": "execute_result"
    }
   ],
   "source": [
    "pattern = \"\\d+\"\n",
    "string2 = \"There are 2345 apples and 12  3455 bananas\"\n",
    "\n",
    "x= re.findall(pattern,string2)\n",
    "x"
   ]
  },
  {
   "cell_type": "code",
   "execution_count": 12,
   "id": "d188d12b",
   "metadata": {},
   "outputs": [
    {
     "data": {
      "text/plain": [
       "['2345', '12']"
      ]
     },
     "execution_count": 12,
     "metadata": {},
     "output_type": "execute_result"
    }
   ],
   "source": [
    "pattern = \"2345|12\"\n",
    "string3 = \"There are 2345 apples and 12  3455 bananas\"\n",
    "\n",
    "y= re.findall(pattern,string3)\n",
    "y"
   ]
  },
  {
   "cell_type": "code",
   "execution_count": 13,
   "id": "40b43f5f",
   "metadata": {},
   "outputs": [
    {
     "data": {
      "text/plain": [
       "['2345', '12', '3455']"
      ]
     },
     "execution_count": 13,
     "metadata": {},
     "output_type": "execute_result"
    }
   ],
   "source": [
    "pattern = \"[0-9]+\"\n",
    "z= re.findall(pattern,string3)\n",
    "z"
   ]
  },
  {
   "cell_type": "code",
   "execution_count": 14,
   "id": "fa3b542f",
   "metadata": {},
   "outputs": [
    {
     "data": {
      "text/plain": [
       "['2', '3', '4', '5', '1', '2', '3', '4', '5', '5']"
      ]
     },
     "execution_count": 14,
     "metadata": {},
     "output_type": "execute_result"
    }
   ],
   "source": [
    "pattern = \"[0-9]\"\n",
    "z= re.findall(pattern,string3)\n",
    "z"
   ]
  },
  {
   "cell_type": "code",
   "execution_count": 15,
   "id": "d5e7a2e4",
   "metadata": {},
   "outputs": [
    {
     "data": {
      "text/plain": [
       "['000111']"
      ]
     },
     "execution_count": 15,
     "metadata": {},
     "output_type": "execute_result"
    }
   ],
   "source": [
    "pattern = \"[0-9]+\"\n",
    "z= re.findall(pattern,'abcxyz000111ikjh')\n",
    "z"
   ]
  },
  {
   "cell_type": "code",
   "execution_count": 16,
   "id": "2b0ae1b9",
   "metadata": {},
   "outputs": [
    {
     "data": {
      "text/plain": [
       "['There are ', ' apples and ', '  ', ' bananas']"
      ]
     },
     "execution_count": 16,
     "metadata": {},
     "output_type": "execute_result"
    }
   ],
   "source": [
    "pattern = \"\\D+\"\n",
    "string2 = \"There are 2345 apples and 12  3455 bananas\"\n",
    "\n",
    "x= re.findall(pattern,string2)\n",
    "x"
   ]
  },
  {
   "cell_type": "code",
   "execution_count": 17,
   "id": "b1d9480a",
   "metadata": {},
   "outputs": [
    {
     "name": "stdout",
     "output_type": "stream",
     "text": [
      "['50']\n",
      "['60']\n",
      "['40']\n",
      "Print only last value ['40']\n"
     ]
    }
   ],
   "source": [
    "string2=[\"Apple cost Rs.50\",\"Mango cost Rs.60\",\"Banana cost Rs.40\"]\n",
    "\n",
    "for i in string2:\n",
    "    x=re.findall(\"\\d+\",i)\n",
    "    print(x)\n",
    "print(\"Print only last value\",x)"
   ]
  },
  {
   "cell_type": "code",
   "execution_count": 18,
   "id": "ae504a45",
   "metadata": {},
   "outputs": [
    {
     "data": {
      "text/plain": [
       "['Scienc', 'stream', 'comple', 'proble', 'scienc']"
      ]
     },
     "execution_count": 18,
     "metadata": {},
     "output_type": "execute_result"
    }
   ],
   "source": [
    "string1 = \"Data Science is a stream part of AI. you can solve a complex problem using data science tech\"\n",
    "x= re.findall(r\"\\w{6}\",string1)\n",
    "x"
   ]
  },
  {
   "cell_type": "code",
   "execution_count": 19,
   "id": "aba49e12",
   "metadata": {},
   "outputs": [
    {
     "data": {
      "text/plain": [
       "['Data',\n",
       " 'Scie',\n",
       " 'stre',\n",
       " 'part',\n",
       " 'solv',\n",
       " 'comp',\n",
       " 'prob',\n",
       " 'usin',\n",
       " 'data',\n",
       " 'scie',\n",
       " 'tech']"
      ]
     },
     "execution_count": 19,
     "metadata": {},
     "output_type": "execute_result"
    }
   ],
   "source": [
    "y= re.findall(r\"\\w{4}\",string1)\n",
    "y"
   ]
  },
  {
   "cell_type": "code",
   "execution_count": 20,
   "id": "03f33b74",
   "metadata": {},
   "outputs": [
    {
     "data": {
      "text/plain": [
       "['Data',\n",
       " 'Scienc',\n",
       " 'stream',\n",
       " 'part',\n",
       " 'solve',\n",
       " 'comple',\n",
       " 'proble',\n",
       " 'using',\n",
       " 'data',\n",
       " 'scienc',\n",
       " 'tech']"
      ]
     },
     "execution_count": 20,
     "metadata": {},
     "output_type": "execute_result"
    }
   ],
   "source": [
    "z=re.findall(r\"\\w{4,6}\",string1)\n",
    "z"
   ]
  },
  {
   "cell_type": "code",
   "execution_count": 21,
   "id": "152fc82c",
   "metadata": {},
   "outputs": [
    {
     "data": {
      "text/plain": [
       "['AP12ik@J', 'Abdul12_*L']"
      ]
     },
     "execution_count": 21,
     "metadata": {},
     "output_type": "execute_result"
    }
   ],
   "source": [
    "#Extracting the strings begin with A and ends with J or the strings begin with A and ends with L\n",
    "\n",
    "string1 = \"AP12ik@J Abdul12_*L kalam was the Indian aerospace scientist also known as missile man of India\"\n",
    "pattern = \"A[a-zA-Z0-9@]+J|A[\\w*]+L\"\n",
    "\n",
    "x= re.findall(pattern,string1)\n",
    "x"
   ]
  },
  {
   "cell_type": "code",
   "execution_count": 22,
   "id": "d4b1e173",
   "metadata": {},
   "outputs": [
    {
     "data": {
      "text/plain": [
       "[]"
      ]
     },
     "execution_count": 22,
     "metadata": {},
     "output_type": "execute_result"
    }
   ],
   "source": [
    "string1 = \"AP12ik@J Abdul12_*L kalam was the Indian aerospace scientist also known as missile man of India\"\n",
    "pattern1 = \"A[\\w@]+J|A[\\w*]+L\"\n",
    "y=re.findall(string1,pattern1)\n",
    "y"
   ]
  },
  {
   "cell_type": "markdown",
   "id": "23c08fa3",
   "metadata": {},
   "source": [
    "# Split"
   ]
  },
  {
   "cell_type": "markdown",
   "id": "5f720391",
   "metadata": {},
   "source": [
    "The regular expression pattern and the target string are the mandatory arguments. The maxsplits and flags are optional.\n",
    "\n",
    "Pattern - The regular expression pattern is used for splitting the target string\n",
    "\n",
    "String - The variable pointing to the target string (i.e, the string we want to split)\n",
    "\n",
    "maxsplit - The number of split you wanted to perform. If maxsplit is 2, atmost two split occur, and the remainder of the string is returned as the final element of the list."
   ]
  },
  {
   "cell_type": "code",
   "execution_count": 23,
   "id": "4f9f52a4",
   "metadata": {},
   "outputs": [
    {
     "data": {
      "text/plain": [
       "['eight nine:', ' ten:', '.']"
      ]
     },
     "execution_count": 23,
     "metadata": {},
     "output_type": "execute_result"
    }
   ],
   "source": [
    "string1=\"eight nine:89 ten:10.\"\n",
    "pattern=\"\\d+\"\n",
    "\n",
    "x= re.split(pattern,string1)\n",
    "x"
   ]
  },
  {
   "cell_type": "code",
   "execution_count": 24,
   "id": "17ca7adf",
   "metadata": {},
   "outputs": [
    {
     "data": {
      "text/plain": [
       "['eight nine:', ' ten:10.']"
      ]
     },
     "execution_count": 24,
     "metadata": {},
     "output_type": "execute_result"
    }
   ],
   "source": [
    "y=re.split(pattern,string1,1)\n",
    "y"
   ]
  },
  {
   "cell_type": "code",
   "execution_count": 25,
   "id": "096abf35",
   "metadata": {},
   "outputs": [
    {
     "data": {
      "text/plain": [
       "['eight', 'nine:89', 'ten:10.']"
      ]
     },
     "execution_count": 25,
     "metadata": {},
     "output_type": "execute_result"
    }
   ],
   "source": [
    "z=re.split(\"\\s\",string1)\n",
    "z"
   ]
  },
  {
   "cell_type": "code",
   "execution_count": 26,
   "id": "98d0c340",
   "metadata": {},
   "outputs": [
    {
     "data": {
      "text/plain": [
       "['eight', 'nine:89 ten:10.']"
      ]
     },
     "execution_count": 26,
     "metadata": {},
     "output_type": "execute_result"
    }
   ],
   "source": [
    "a=re.split(\"\\s\",string1,1)\n",
    "a"
   ]
  },
  {
   "cell_type": "code",
   "execution_count": 27,
   "id": "0d298ff8",
   "metadata": {},
   "outputs": [
    {
     "data": {
      "text/plain": [
       "['12', '48', '75']"
      ]
     },
     "execution_count": 27,
     "metadata": {},
     "output_type": "execute_result"
    }
   ],
   "source": [
    "string2=\"12-48-75\"\n",
    "x= re.split(r\"\\D\",string2)   #split on the first occurrences\n",
    "x"
   ]
  },
  {
   "cell_type": "code",
   "execution_count": 28,
   "id": "1f5aab20",
   "metadata": {},
   "outputs": [
    {
     "data": {
      "text/plain": [
       "['23', '45', '213-98']"
      ]
     },
     "execution_count": 28,
     "metadata": {},
     "output_type": "execute_result"
    }
   ],
   "source": [
    "string3 = \"23-45+213-98\"\n",
    "y=re.split(r\"\\D\",string3,2)  #split on the second occurrences\n",
    "y"
   ]
  },
  {
   "cell_type": "markdown",
   "id": "d09252d3",
   "metadata": {},
   "source": [
    "# Sub"
   ]
  },
  {
   "cell_type": "markdown",
   "id": "5b089081",
   "metadata": {},
   "source": [
    "This method is used to find the substring where regex pattern matches and then it replaces the matched substring with the different string.\n",
    "\n",
    "If the pattern is not found then re.sub() returns the original string."
   ]
  },
  {
   "cell_type": "code",
   "execution_count": 29,
   "id": "acf7ec95",
   "metadata": {},
   "outputs": [
    {
     "data": {
      "text/plain": [
       "'This$$function$$replace$$space$$by$$assigned$$character'"
      ]
     },
     "execution_count": 29,
     "metadata": {},
     "output_type": "execute_result"
    }
   ],
   "source": [
    "sub = \"This function replace space by assigned character\"\n",
    "\n",
    "x= re.sub(\"\\s\",\"$$\",sub)\n",
    "x"
   ]
  },
  {
   "cell_type": "code",
   "execution_count": 30,
   "id": "bdcacda2",
   "metadata": {},
   "outputs": [
    {
     "data": {
      "text/plain": [
       "'Apple costs $ 30'"
      ]
     },
     "execution_count": 30,
     "metadata": {},
     "output_type": "execute_result"
    }
   ],
   "source": [
    "y=\"Rs.\"\n",
    "\n",
    "string1 = \"Apple costs Rs. 30\"\n",
    "\n",
    "x= re.sub(y,\"$\",string1)\n",
    "x"
   ]
  },
  {
   "cell_type": "code",
   "execution_count": 31,
   "id": "e5405f28",
   "metadata": {},
   "outputs": [
    {
     "data": {
      "text/plain": [
       "'Apple costs $30 and $ 40'"
      ]
     },
     "execution_count": 31,
     "metadata": {},
     "output_type": "execute_result"
    }
   ],
   "source": [
    "y=\"Rs.\"\n",
    "string1 = \"Apple costs Rs.30 and rs. 40\"\n",
    "\n",
    "y=re.sub(y,\"$\",string1,flags=re.IGNORECASE)   #flags paramter to ignore case\n",
    "y"
   ]
  },
  {
   "cell_type": "code",
   "execution_count": 32,
   "id": "0e07a397",
   "metadata": {},
   "outputs": [
    {
     "data": {
      "text/plain": [
       "'Pythonistheprogramminglanguage'"
      ]
     },
     "execution_count": 32,
     "metadata": {},
     "output_type": "execute_result"
    }
   ],
   "source": [
    "string2 = \"Python is the programming language\"\n",
    "z=re.sub(r\"\\s+\",\"\",string2)\n",
    "z"
   ]
  },
  {
   "cell_type": "code",
   "execution_count": 33,
   "id": "8785a0a8",
   "metadata": {},
   "outputs": [
    {
     "data": {
      "text/plain": [
       "'  Python is the programming language'"
      ]
     },
     "execution_count": 33,
     "metadata": {},
     "output_type": "execute_result"
    }
   ],
   "source": [
    "string2 = \"  Python is the programming language  \"\n",
    "z=re.sub(r\"\\s+$\",\"\",string2)\n",
    "z"
   ]
  },
  {
   "cell_type": "code",
   "execution_count": 34,
   "id": "ff0ae65d",
   "metadata": {},
   "outputs": [
    {
     "data": {
      "text/plain": [
       "'Python is the programming language  '"
      ]
     },
     "execution_count": 34,
     "metadata": {},
     "output_type": "execute_result"
    }
   ],
   "source": [
    "string2 = \"  Python is the programming language  \"\n",
    "z=re.sub(r\"^\\s+\",\"\",string2)\n",
    "z"
   ]
  },
  {
   "cell_type": "code",
   "execution_count": 35,
   "id": "3334dcb1",
   "metadata": {},
   "outputs": [
    {
     "data": {
      "text/plain": [
       "'abc*xyz*_*'"
      ]
     },
     "execution_count": 35,
     "metadata": {},
     "output_type": "execute_result"
    }
   ],
   "source": [
    "a= re.sub(r\"[0-9]+\",r\"*\",\"abc1000010xyz2200002_0\")\n",
    "a"
   ]
  },
  {
   "cell_type": "markdown",
   "id": "31d92b6d",
   "metadata": {},
   "source": [
    "# sub()"
   ]
  },
  {
   "cell_type": "markdown",
   "id": "745088c2",
   "metadata": {},
   "source": [
    "This method is similar to sub() method and used to find the substring where the regex pattern matches and it replaces the matched substring with the different string along with the number of replacement."
   ]
  },
  {
   "cell_type": "code",
   "execution_count": 36,
   "id": "231faa48",
   "metadata": {},
   "outputs": [
    {
     "data": {
      "text/plain": [
       "('abc*xyz*_*', 3)"
      ]
     },
     "execution_count": 36,
     "metadata": {},
     "output_type": "execute_result"
    }
   ],
   "source": [
    "b = re.subn(r\"[0-9]+\",r\"*\",\"abc1000010xyz2200002_0\")\n",
    "b"
   ]
  },
  {
   "cell_type": "markdown",
   "id": "1a4212d2",
   "metadata": {},
   "source": [
    "# Match Object"
   ]
  },
  {
   "cell_type": "markdown",
   "id": "9da147b5",
   "metadata": {},
   "source": [
    "Python re.match() method looks for regex pattern only at the beginning of the target string and returns match object if the match found otherwise it returns None.\n",
    "\n",
    "The match object contains the locations at which the match starts and end and the actual match value. "
   ]
  },
  {
   "cell_type": "code",
   "execution_count": 37,
   "id": "e760ea67",
   "metadata": {},
   "outputs": [
    {
     "data": {
      "text/plain": [
       "<regex.Match object; span=(0, 4), match='1988'>"
      ]
     },
     "execution_count": 37,
     "metadata": {},
     "output_type": "execute_result"
    }
   ],
   "source": [
    "target = \"1988 virat cricket player born on november 05\"\n",
    "\n",
    "x=re.match(r\"\\d{4}\",target)\n",
    "x"
   ]
  },
  {
   "cell_type": "code",
   "execution_count": 38,
   "id": "f328b17c",
   "metadata": {},
   "outputs": [
    {
     "data": {
      "text/plain": [
       "<regex.Match object; span=(0, 6), match='123abc'>"
      ]
     },
     "execution_count": 38,
     "metadata": {},
     "output_type": "execute_result"
    }
   ],
   "source": [
    "target = \"123abc apple cost 20\"\n",
    "y=re.match(\"\\w+\",target)\n",
    "y"
   ]
  },
  {
   "cell_type": "code",
   "execution_count": 39,
   "id": "c808fa05",
   "metadata": {},
   "outputs": [],
   "source": [
    "target1= \"virat is a cricket palyer born on 05 November 1988\"\n",
    "\n",
    "z=re.match(r\"\\d{4}\",target1)\n",
    "z"
   ]
  },
  {
   "cell_type": "code",
   "execution_count": 40,
   "id": "14db0c8c",
   "metadata": {},
   "outputs": [
    {
     "data": {
      "text/plain": [
       "<regex.Match object; span=(0, 37), match='virat is a cricket palyer born on @# '>"
      ]
     },
     "execution_count": 40,
     "metadata": {},
     "output_type": "execute_result"
    }
   ],
   "source": [
    "target1= \"virat is a cricket palyer born on @# \\n 05 November 1988\"\n",
    "\n",
    "z=re.match(\".+\",target1)\n",
    "z"
   ]
  },
  {
   "cell_type": "code",
   "execution_count": 41,
   "id": "0d7f6b10",
   "metadata": {},
   "outputs": [],
   "source": [
    "target1= \"virat is a cricket palyer born on @# \\n 05 November 1988\"\n",
    "\n",
    "a=re.match(r\"\\w{6}\",target1)\n",
    "a"
   ]
  },
  {
   "cell_type": "markdown",
   "id": "a5cf30ae",
   "metadata": {},
   "source": [
    "If you use match method to match any four letter word at the end of the string you get None because it returns a match only if the pattern is located at the beginning of the string And as we can see the six letter word not present at the start of the string so to match regex pattern anywhere in the string we need to use search() or findall() of the RE module."
   ]
  },
  {
   "cell_type": "markdown",
   "id": "052a728e",
   "metadata": {},
   "source": [
    "The match object has a properties and methods used to retrieve information about search and the result:\n",
    "\n",
    "span() - It returns the tuple containing start and end position of the match.\n",
    "\n",
    "string - It returns the string passed into the function.\n",
    "\n",
    "group() - It returns the part of the string where there was a match\n",
    "\n",
    "start() - It returns the index of the start of the matched substring\n",
    "\n",
    "end() - It returns end index of the matched substring."
   ]
  },
  {
   "cell_type": "markdown",
   "id": "037b4b63",
   "metadata": {},
   "source": [
    "# Search"
   ]
  },
  {
   "cell_type": "markdown",
   "id": "0f57f05a",
   "metadata": {},
   "source": [
    "Python re.search() method looks for the occurences of the regex pattern inside the entire target string and returns the corresponding match object instance where the match is found.\n",
    "\n",
    "The method looks for the first location where the Regex pattern produces a match with the string. If the search is successful, re.search() returns a match object else it returns None."
   ]
  },
  {
   "cell_type": "markdown",
   "id": "cfca80fe",
   "metadata": {},
   "source": [
    "The re.search() methid returns the match object. This match object containing following two items\n",
    "\n",
    "1. The tuple object containing the start and end index of the successful match.\n",
    "\n",
    "2. It contains actual matching value that we can retrieve using group() method."
   ]
  },
  {
   "cell_type": "code",
   "execution_count": 42,
   "id": "29c1676e",
   "metadata": {},
   "outputs": [
    {
     "name": "stdout",
     "output_type": "stream",
     "text": [
      "None\n",
      "None\n",
      "<regex.Match object; span=(0, 6), match='Banana'>\n",
      "<regex.Match object; span=(0, 6), match='Banana'>\n"
     ]
    }
   ],
   "source": [
    "string1 = [\"Apple cost Rs.50\",\"Mango cost Rs.60\",\"Banana cost Rs.40\",\"Banana cost Rs.60\"]\n",
    "\n",
    "for i in string1:\n",
    "    x=re.search(\"Banana\",i)\n",
    "    print(x)"
   ]
  },
  {
   "cell_type": "code",
   "execution_count": 43,
   "id": "ab543f74",
   "metadata": {},
   "outputs": [
    {
     "name": "stdout",
     "output_type": "stream",
     "text": [
      "[]\n",
      "[]\n",
      "['Banana']\n",
      "['Banana']\n"
     ]
    }
   ],
   "source": [
    "string1 = [\"Apple cost Rs.50\",\"Mango cost Rs.60\",\"Banana cost Rs.40\",\"Banana cost Rs.60\"]\n",
    "\n",
    "for i in string1:\n",
    "    x=re.findall(\"Banana\",i)\n",
    "    print(x)"
   ]
  },
  {
   "cell_type": "code",
   "execution_count": 44,
   "id": "196de3ce",
   "metadata": {},
   "outputs": [
    {
     "data": {
      "text/plain": [
       "<regex.Match object; span=(0, 28), match='This product is really Great'>"
      ]
     },
     "execution_count": 44,
     "metadata": {},
     "output_type": "execute_result"
    }
   ],
   "source": [
    "target = \"This product is really Great\"\n",
    "\n",
    "x= re.search(\"^This.*Great$\",target)\n",
    "x"
   ]
  },
  {
   "cell_type": "markdown",
   "id": "a21e9043",
   "metadata": {},
   "source": [
    "Note: The properties and methods of re.match() are used in re.search() because re.search() uses match"
   ]
  },
  {
   "cell_type": "markdown",
   "id": "2c5f5593",
   "metadata": {},
   "source": [
    "1-  group()\n",
    "\n",
    "A group is the part of regex pattern enclosed within paranthese() metacharacter. we create a group by placing regex pattern inside the set of paranthese.\n",
    "\n",
    "capturing groups are way to treat multiple characters as a single unit. They are created by placing the character to be grouped inside a set of parantheses ().\n",
    "\n",
    "The group method returns part of the string where there is a match.\n",
    "\n",
    "we use group() method to extract each group method separately by specifying group index within the parantheses. capturing groups are numbered by counting the parantheses from left to right.\n",
    "\n",
    "please note thet unlike string indexing which always start at 0, group numbering always start at 1\n",
    "\n",
    "The group with the number 0 is always the target string. If you call the group() method with no argument or 0 as an argument we will get entire target string."
   ]
  },
  {
   "cell_type": "code",
   "execution_count": 45,
   "id": "6600cdcc",
   "metadata": {},
   "outputs": [
    {
     "name": "stdout",
     "output_type": "stream",
     "text": [
      "<regex.Match object; span=(24, 30), match='Indian'>\n",
      "Indian\n"
     ]
    }
   ],
   "source": [
    "string1 = \"APJ Abdul kalam was the Indian aerospace scientist also known as missile man of India\"\n",
    "\n",
    "x= re.search(r\"\\w{6}\",string1)\n",
    "print(x)\n",
    "print(x.group())"
   ]
  },
  {
   "cell_type": "code",
   "execution_count": 46,
   "id": "95b95f96",
   "metadata": {},
   "outputs": [
    {
     "name": "stdout",
     "output_type": "stream",
     "text": [
      "<regex.Match object; span=(31, 40), match='aerospace'>\n",
      "aerospace\n"
     ]
    }
   ],
   "source": [
    "y= re.search(r\"\\baerospace\\b\",string1)\n",
    "print(y)\n",
    "print(y.group())"
   ]
  },
  {
   "cell_type": "code",
   "execution_count": 47,
   "id": "648929de",
   "metadata": {},
   "outputs": [
    {
     "name": "stdout",
     "output_type": "stream",
     "text": [
      "<regex.Match object; span=(4, 9), match='Abdul'>\n",
      "Abdul\n"
     ]
    }
   ],
   "source": [
    "z= re.search(r\"A\\wdu\\w+\",string1)\n",
    "print(z)\n",
    "print(z.group())"
   ]
  },
  {
   "cell_type": "code",
   "execution_count": 48,
   "id": "f5ee3e8a",
   "metadata": {},
   "outputs": [
    {
     "name": "stdout",
     "output_type": "stream",
     "text": [
      "<regex.Match object; span=(0, 8), match='1234 567'>\n",
      "1234 567\n"
     ]
    }
   ],
   "source": [
    "string1=\"1234 567 23 29876\"\n",
    "\n",
    "x= re.search(r\"(\\d{4}) (\\d{3})\",string1)\n",
    "print(x)\n",
    "print(x.group())"
   ]
  },
  {
   "cell_type": "code",
   "execution_count": 49,
   "id": "3ea9d2a8",
   "metadata": {},
   "outputs": [
    {
     "name": "stdout",
     "output_type": "stream",
     "text": [
      "<regex.Match object; span=(24, 89), match='1st Indian AEROSPACE scientist also known as MISSILE man of India'>\n",
      "1st Indian AEROSPACE scientist also known as MISSILE man of India\n",
      "('1', 'MISSILE', 'India')\n",
      "1\n",
      "MISSILE\n",
      "India\n",
      "('MISSILE', 'India')\n"
     ]
    }
   ],
   "source": [
    "string1 = \"APJ Abdul kalam was the 1st Indian AEROSPACE scientist also known as MISSILE man of India\"\n",
    "\n",
    "x=re.search(r\"(\\b\\d+).+(\\b[A-Z]+\\b).+(\\bIndia\\b)\",string1)\n",
    "print(x)\n",
    "print(x.group())\n",
    "print(x.groups())\n",
    "print(x.group(1))\n",
    "print(x.group(2))\n",
    "print(x.group(3))\n",
    "print(x.group(2,3))"
   ]
  },
  {
   "cell_type": "markdown",
   "id": "08c0d31f",
   "metadata": {},
   "source": [
    "# re.compile()"
   ]
  },
  {
   "cell_type": "markdown",
   "id": "b28e2f33",
   "metadata": {},
   "source": [
    "re.compile() method is used to compile the regular expression pattern provided as a string into a regex pattern object. Later we can use this pattern object to search for a match inside different target strings using regex methods such as re.search() or re.match() or other methods.\n",
    "\n",
    "The expressions behaviour can be modified by specifying a flags value. Values can be any of the following variables, combined using bitwise OR (|) operator."
   ]
  },
  {
   "cell_type": "code",
   "execution_count": 50,
   "id": "1551ef4f",
   "metadata": {},
   "outputs": [
    {
     "name": "stdout",
     "output_type": "stream",
     "text": [
      "<class '_regex.Pattern'>\n"
     ]
    },
    {
     "data": {
      "text/plain": [
       "['2345', '3455']"
      ]
     },
     "execution_count": 50,
     "metadata": {},
     "output_type": "execute_result"
    }
   ],
   "source": [
    "string1 = \"There are 2345 apples and 12  3455 bananas\"\n",
    "\n",
    "pattern = r\"\\d{4}\"\n",
    "\n",
    "x= re.compile(pattern)\n",
    "type(x)\n",
    "print(type(x))\n",
    "\n",
    "result=x.findall(string1)\n",
    "result"
   ]
  },
  {
   "cell_type": "code",
   "execution_count": 51,
   "id": "a1b45334",
   "metadata": {},
   "outputs": [
    {
     "name": "stdout",
     "output_type": "stream",
     "text": [
      "['5000']\n",
      "['6000']\n",
      "[]\n",
      "[]\n"
     ]
    }
   ],
   "source": [
    "string2 = [\"Apple cost Rs.5000\",\"Mango cost Rs.6000\",\"Banana cost Rs.40\",\"Banana cost Rs.60\"]\n",
    "\n",
    "for i in string2:\n",
    "    z= x.findall(i)\n",
    "    print(z)"
   ]
  },
  {
   "cell_type": "markdown",
   "id": "ecbed176",
   "metadata": {},
   "source": [
    "# Regex Capture Group Multiple times"
   ]
  },
  {
   "cell_type": "markdown",
   "id": "7fa49f20",
   "metadata": {},
   "source": [
    "The search method will return only the first match for each group. But what if the string contains multiple occurences of a regex group and you want to extract all matches then we can use finditer() method.\n",
    "\n",
    "    The finditer() method finds all matches and returns an iterator yielding match objects matching the regex pattern.\n",
    "    \n",
    "    Note: Don't use findall() method because it returns a list, a group() method cannot be applied. If you try to apply it to the findall() method you will get the AttributeError. 'list' objects has no attribute called 'groups'"
   ]
  },
  {
   "cell_type": "code",
   "execution_count": 3,
   "id": "0b0ec609",
   "metadata": {},
   "outputs": [
    {
     "name": "stdout",
     "output_type": "stream",
     "text": [
      "1 st Indian AEROSPACE scientist also known as MISSILE\n",
      "('1', 'MISSILE')\n",
      "<regex.Match object; span=(24, 77), match='1 st Indian AEROSPACE scientist also known as MISSILE'>\n"
     ]
    }
   ],
   "source": [
    "string1 = \"APJ Abdul kalam was the 1 st Indian AEROSPACE scientist also known as MISSILE man of India\"\n",
    "\n",
    "pattern = re.compile(r\"(\\b\\d+\\b).+(\\b[A-Z]+\\b)\")\n",
    "\n",
    "for i in pattern.finditer(string1):\n",
    "    print(i.group())\n",
    "    print(i.groups())\n",
    "    print(i)"
   ]
  },
  {
   "cell_type": "markdown",
   "id": "cf2da36c",
   "metadata": {},
   "source": [
    "# Remove consecutive duplicated words"
   ]
  },
  {
   "cell_type": "code",
   "execution_count": 53,
   "id": "c5926c3a",
   "metadata": {},
   "outputs": [
    {
     "data": {
      "text/plain": [
       "'Ram went to his home'"
      ]
     },
     "execution_count": 53,
     "metadata": {},
     "output_type": "execute_result"
    }
   ],
   "source": [
    "string1 = \"Ram went to to his home\"\n",
    "pattern = r\"\\b(\\w+)(?:\\W+\\1\\b)+\"\n",
    "\n",
    "x=re.sub(pattern,r'\\1',string1)\n",
    "x"
   ]
  },
  {
   "cell_type": "markdown",
   "id": "fa1ff4c8",
   "metadata": {},
   "source": [
    "The details of the above regular expression can be understood as:\n",
    "    \n",
    "    1, \"\\b\" - A word boundary. Boundaries are needed for special cases. For example : In \"Mythesis is great\" \"is\" wont be matched twice.\n",
    "    \n",
    "    2, \"\\w+\" - A word character [A-Za-z0-9]\n",
    "    \n",
    "    3, \"\\W+\" - A non-word character. [^\\w]\n",
    "    \n",
    "    4, \"\\1\" - Matches whatever was matched in the first group of paranthesis, which is in this case is the (\\w+)\n",
    "    \n",
    "    5, \"+\" - Matches whatever it placed after 1 or more times.\n",
    "    \n",
    "    "
   ]
  },
  {
   "cell_type": "markdown",
   "id": "3a0a3002",
   "metadata": {},
   "source": [
    "# Extract URL from Text"
   ]
  },
  {
   "cell_type": "code",
   "execution_count": 54,
   "id": "69ea0341",
   "metadata": {},
   "outputs": [
    {
     "name": "stdout",
     "output_type": "stream",
     "text": [
      "['https://www.python.org', 'https://en.wikipedia.org']\n"
     ]
    }
   ],
   "source": [
    "with open(r\"C:\\Users\\DELL\\OneDrive\\Documents\\url.txt\") as file:\n",
    "    for line in file:\n",
    "        urls = re.findall(\"https?://(?:[-\\w.]|(?:%[\\da-zA-Z0-9]{2}))+\",line)\n",
    "    print(urls)"
   ]
  },
  {
   "cell_type": "code",
   "execution_count": null,
   "id": "1ab8ae23",
   "metadata": {},
   "outputs": [],
   "source": []
  }
 ],
 "metadata": {
  "kernelspec": {
   "display_name": "Python 3 (ipykernel)",
   "language": "python",
   "name": "python3"
  },
  "language_info": {
   "codemirror_mode": {
    "name": "ipython",
    "version": 3
   },
   "file_extension": ".py",
   "mimetype": "text/x-python",
   "name": "python",
   "nbconvert_exporter": "python",
   "pygments_lexer": "ipython3",
   "version": "3.11.5"
  }
 },
 "nbformat": 4,
 "nbformat_minor": 5
}
